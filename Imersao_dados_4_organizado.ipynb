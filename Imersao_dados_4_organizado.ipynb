{
  "nbformat": 4,
  "nbformat_minor": 0,
  "metadata": {
    "colab": {
      "name": "Imersao_dados_4_organizado.ipynb",
      "provenance": [],
      "collapsed_sections": [],
      "authorship_tag": "ABX9TyP8BzFWKI+raoqknolgmQeC",
      "include_colab_link": true
    },
    "kernelspec": {
      "name": "python3",
      "display_name": "Python 3"
    },
    "language_info": {
      "name": "python"
    }
  },
  "cells": [
    {
      "cell_type": "markdown",
      "metadata": {
        "id": "view-in-github",
        "colab_type": "text"
      },
      "source": [
        "<a href=\"https://colab.research.google.com/github/kaioschi/imersao_dados_4/blob/main/Imersao_dados_4_organizado.ipynb\" target=\"_parent\"><img src=\"https://colab.research.google.com/assets/colab-badge.svg\" alt=\"Open In Colab\"/></a>"
      ]
    },
    {
      "cell_type": "markdown",
      "source": [
        "# Importação de bibliotecas de dados"
      ],
      "metadata": {
        "id": "KWoENrBUiwQ3"
      }
    },
    {
      "cell_type": "code",
      "execution_count": null,
      "metadata": {
        "id": "c8Ursur7BE4T"
      },
      "outputs": [],
      "source": [
        "import pandas as pd\n",
        "import numpy as np\n",
        "import matplotlib.pyplot as plt\n",
        "import seaborn as sns\n",
        "sns.set()"
      ]
    },
    {
      "cell_type": "code",
      "source": [
        "!pip install matplotlib --upgrade  # para usar métodos da versão mais recente do matplotlib"
      ],
      "metadata": {
        "id": "QgYDEldKrclK"
      },
      "execution_count": null,
      "outputs": []
    },
    {
      "cell_type": "code",
      "source": [
        "url = \"https://gist.githubusercontent.com/tgcsantos/3bdb29eba6ce391e90df2b72205ba891/raw/22fa920e80c9fa209a9fccc8b52d74cc95d1599b/dados_imoveis.csv\"\n",
        "dados = pd.read_csv(url)\n",
        "\n",
        "ibge_url = \"https://gist.githubusercontent.com/tgcsantos/85f8c7b0a2edbc3e27fcad619b37d886/raw/a4954781e6bca9cb804062a3eea0b3b84679daf4/Basico_SP1.csv\"\n",
        "ibge = pd.read_csv(ibge_url)"
      ],
      "metadata": {
        "id": "z1n5euYPH0Je"
      },
      "execution_count": null,
      "outputs": []
    },
    {
      "cell_type": "code",
      "source": [
        "pd.set_option(\"display.precision\", 2)  # deixando duas casas decimaisi na maioria dos números\n",
        "pd.set_option('display.float_format', lambda x: '%.2f' % x)  # deixando duas casas decimais nos floats"
      ],
      "metadata": {
        "id": "OAlQpjx8J7q8"
      },
      "execution_count": null,
      "outputs": []
    },
    {
      "cell_type": "markdown",
      "source": [
        "# Tratamento e limpeza dos dados"
      ],
      "metadata": {
        "id": "PbV4rz21iDj5"
      }
    },
    {
      "cell_type": "markdown",
      "source": [
        "### Coluna Valor"
      ],
      "metadata": {
        "id": "a8XDWyVeiLpL"
      }
    },
    {
      "cell_type": "code",
      "source": [
        "dados[[\"Moeda\", \"Valor_Temp\", \"Modalidade\"]] = dados[\"Valor\"].str.split(expand = True)  # separando a string de Valor em 3 novas colunas, para tratamento dos dados\n",
        "dados.head()"
      ],
      "metadata": {
        "id": "qqSQBBPpBgKe",
        "colab": {
          "base_uri": "https://localhost:8080/"
        },
        "outputId": "9dd3fd96-e75b-4b79-e490-a9819da1c92a"
      },
      "execution_count": null,
      "outputs": [
        {
          "output_type": "execute_result",
          "data": {
            "text/plain": [
              "                              Rua              Bairro     Cidade  Metragem  \\\n",
              "0           Avenida Itacira, 255    Planalto Paulista  São Paulo      1000   \n",
              "1  Rua Aurelia Perez Alvarez, 42   Jardim dos Estados  São Paulo       496   \n",
              "2                 Rua Alba Valdez     Jardim Reimberg  São Paulo       125   \n",
              "3                             NaN      Jardim Morumbi  São Paulo       310   \n",
              "4        Rua Tobias Barreto, 195                Mooca  São Paulo       100   \n",
              "\n",
              "   Quartos  Banheiros  Vagas         Valor Moeda Valor_Temp Modalidade  \n",
              "0        4          8      6  R$ 7.000.000    R$  7.000.000       None  \n",
              "1        4          4      4  R$ 3.700.000    R$  3.700.000       None  \n",
              "2        4          3      2    R$ 380.000    R$    380.000       None  \n",
              "3        3          2      4    R$ 685.000    R$    685.000       None  \n",
              "4        3          2      2    R$ 540.000    R$    540.000       None  "
            ],
            "text/html": [
              "\n",
              "  <div id=\"df-4c600719-c034-44c6-a553-2db467dc6cfe\">\n",
              "    <div class=\"colab-df-container\">\n",
              "      <div>\n",
              "<style scoped>\n",
              "    .dataframe tbody tr th:only-of-type {\n",
              "        vertical-align: middle;\n",
              "    }\n",
              "\n",
              "    .dataframe tbody tr th {\n",
              "        vertical-align: top;\n",
              "    }\n",
              "\n",
              "    .dataframe thead th {\n",
              "        text-align: right;\n",
              "    }\n",
              "</style>\n",
              "<table border=\"1\" class=\"dataframe\">\n",
              "  <thead>\n",
              "    <tr style=\"text-align: right;\">\n",
              "      <th></th>\n",
              "      <th>Rua</th>\n",
              "      <th>Bairro</th>\n",
              "      <th>Cidade</th>\n",
              "      <th>Metragem</th>\n",
              "      <th>Quartos</th>\n",
              "      <th>Banheiros</th>\n",
              "      <th>Vagas</th>\n",
              "      <th>Valor</th>\n",
              "      <th>Moeda</th>\n",
              "      <th>Valor_Temp</th>\n",
              "      <th>Modalidade</th>\n",
              "    </tr>\n",
              "  </thead>\n",
              "  <tbody>\n",
              "    <tr>\n",
              "      <th>0</th>\n",
              "      <td>Avenida Itacira, 255</td>\n",
              "      <td>Planalto Paulista</td>\n",
              "      <td>São Paulo</td>\n",
              "      <td>1000</td>\n",
              "      <td>4</td>\n",
              "      <td>8</td>\n",
              "      <td>6</td>\n",
              "      <td>R$ 7.000.000</td>\n",
              "      <td>R$</td>\n",
              "      <td>7.000.000</td>\n",
              "      <td>None</td>\n",
              "    </tr>\n",
              "    <tr>\n",
              "      <th>1</th>\n",
              "      <td>Rua Aurelia Perez Alvarez, 42</td>\n",
              "      <td>Jardim dos Estados</td>\n",
              "      <td>São Paulo</td>\n",
              "      <td>496</td>\n",
              "      <td>4</td>\n",
              "      <td>4</td>\n",
              "      <td>4</td>\n",
              "      <td>R$ 3.700.000</td>\n",
              "      <td>R$</td>\n",
              "      <td>3.700.000</td>\n",
              "      <td>None</td>\n",
              "    </tr>\n",
              "    <tr>\n",
              "      <th>2</th>\n",
              "      <td>Rua Alba Valdez</td>\n",
              "      <td>Jardim Reimberg</td>\n",
              "      <td>São Paulo</td>\n",
              "      <td>125</td>\n",
              "      <td>4</td>\n",
              "      <td>3</td>\n",
              "      <td>2</td>\n",
              "      <td>R$ 380.000</td>\n",
              "      <td>R$</td>\n",
              "      <td>380.000</td>\n",
              "      <td>None</td>\n",
              "    </tr>\n",
              "    <tr>\n",
              "      <th>3</th>\n",
              "      <td>NaN</td>\n",
              "      <td>Jardim Morumbi</td>\n",
              "      <td>São Paulo</td>\n",
              "      <td>310</td>\n",
              "      <td>3</td>\n",
              "      <td>2</td>\n",
              "      <td>4</td>\n",
              "      <td>R$ 685.000</td>\n",
              "      <td>R$</td>\n",
              "      <td>685.000</td>\n",
              "      <td>None</td>\n",
              "    </tr>\n",
              "    <tr>\n",
              "      <th>4</th>\n",
              "      <td>Rua Tobias Barreto, 195</td>\n",
              "      <td>Mooca</td>\n",
              "      <td>São Paulo</td>\n",
              "      <td>100</td>\n",
              "      <td>3</td>\n",
              "      <td>2</td>\n",
              "      <td>2</td>\n",
              "      <td>R$ 540.000</td>\n",
              "      <td>R$</td>\n",
              "      <td>540.000</td>\n",
              "      <td>None</td>\n",
              "    </tr>\n",
              "  </tbody>\n",
              "</table>\n",
              "</div>\n",
              "      <button class=\"colab-df-convert\" onclick=\"convertToInteractive('df-4c600719-c034-44c6-a553-2db467dc6cfe')\"\n",
              "              title=\"Convert this dataframe to an interactive table.\"\n",
              "              style=\"display:none;\">\n",
              "        \n",
              "  <svg xmlns=\"http://www.w3.org/2000/svg\" height=\"24px\"viewBox=\"0 0 24 24\"\n",
              "       width=\"24px\">\n",
              "    <path d=\"M0 0h24v24H0V0z\" fill=\"none\"/>\n",
              "    <path d=\"M18.56 5.44l.94 2.06.94-2.06 2.06-.94-2.06-.94-.94-2.06-.94 2.06-2.06.94zm-11 1L8.5 8.5l.94-2.06 2.06-.94-2.06-.94L8.5 2.5l-.94 2.06-2.06.94zm10 10l.94 2.06.94-2.06 2.06-.94-2.06-.94-.94-2.06-.94 2.06-2.06.94z\"/><path d=\"M17.41 7.96l-1.37-1.37c-.4-.4-.92-.59-1.43-.59-.52 0-1.04.2-1.43.59L10.3 9.45l-7.72 7.72c-.78.78-.78 2.05 0 2.83L4 21.41c.39.39.9.59 1.41.59.51 0 1.02-.2 1.41-.59l7.78-7.78 2.81-2.81c.8-.78.8-2.07 0-2.86zM5.41 20L4 18.59l7.72-7.72 1.47 1.35L5.41 20z\"/>\n",
              "  </svg>\n",
              "      </button>\n",
              "      \n",
              "  <style>\n",
              "    .colab-df-container {\n",
              "      display:flex;\n",
              "      flex-wrap:wrap;\n",
              "      gap: 12px;\n",
              "    }\n",
              "\n",
              "    .colab-df-convert {\n",
              "      background-color: #E8F0FE;\n",
              "      border: none;\n",
              "      border-radius: 50%;\n",
              "      cursor: pointer;\n",
              "      display: none;\n",
              "      fill: #1967D2;\n",
              "      height: 32px;\n",
              "      padding: 0 0 0 0;\n",
              "      width: 32px;\n",
              "    }\n",
              "\n",
              "    .colab-df-convert:hover {\n",
              "      background-color: #E2EBFA;\n",
              "      box-shadow: 0px 1px 2px rgba(60, 64, 67, 0.3), 0px 1px 3px 1px rgba(60, 64, 67, 0.15);\n",
              "      fill: #174EA6;\n",
              "    }\n",
              "\n",
              "    [theme=dark] .colab-df-convert {\n",
              "      background-color: #3B4455;\n",
              "      fill: #D2E3FC;\n",
              "    }\n",
              "\n",
              "    [theme=dark] .colab-df-convert:hover {\n",
              "      background-color: #434B5C;\n",
              "      box-shadow: 0px 1px 3px 1px rgba(0, 0, 0, 0.15);\n",
              "      filter: drop-shadow(0px 1px 2px rgba(0, 0, 0, 0.3));\n",
              "      fill: #FFFFFF;\n",
              "    }\n",
              "  </style>\n",
              "\n",
              "      <script>\n",
              "        const buttonEl =\n",
              "          document.querySelector('#df-4c600719-c034-44c6-a553-2db467dc6cfe button.colab-df-convert');\n",
              "        buttonEl.style.display =\n",
              "          google.colab.kernel.accessAllowed ? 'block' : 'none';\n",
              "\n",
              "        async function convertToInteractive(key) {\n",
              "          const element = document.querySelector('#df-4c600719-c034-44c6-a553-2db467dc6cfe');\n",
              "          const dataTable =\n",
              "            await google.colab.kernel.invokeFunction('convertToInteractive',\n",
              "                                                     [key], {});\n",
              "          if (!dataTable) return;\n",
              "\n",
              "          const docLinkHtml = 'Like what you see? Visit the ' +\n",
              "            '<a target=\"_blank\" href=https://colab.research.google.com/notebooks/data_table.ipynb>data table notebook</a>'\n",
              "            + ' to learn more about interactive tables.';\n",
              "          element.innerHTML = '';\n",
              "          dataTable['output_type'] = 'display_data';\n",
              "          await google.colab.output.renderOutput(dataTable, element);\n",
              "          const docLink = document.createElement('div');\n",
              "          docLink.innerHTML = docLinkHtml;\n",
              "          element.appendChild(docLink);\n",
              "        }\n",
              "      </script>\n",
              "    </div>\n",
              "  </div>\n",
              "  "
            ]
          },
          "metadata": {},
          "execution_count": 309
        }
      ]
    },
    {
      "cell_type": "code",
      "source": [
        "dados[\"Valor\"] = dados[\"Valor_Temp\"].str.replace(\".\", \"\").astype(float)  # substituindo o . em Valor_Temp e convertendo para float\n",
        "dados.head()"
      ],
      "metadata": {
        "colab": {
          "base_uri": "https://localhost:8080/"
        },
        "id": "JoBADrReIHlc",
        "outputId": "296ceb16-873a-4977-9d98-8a0009d610bb"
      },
      "execution_count": null,
      "outputs": [
        {
          "output_type": "stream",
          "name": "stderr",
          "text": [
            "/usr/local/lib/python3.7/dist-packages/ipykernel_launcher.py:1: FutureWarning: The default value of regex will change from True to False in a future version. In addition, single character regular expressions will *not* be treated as literal strings when regex=True.\n",
            "  \"\"\"Entry point for launching an IPython kernel.\n"
          ]
        },
        {
          "output_type": "execute_result",
          "data": {
            "text/plain": [
              "                              Rua              Bairro     Cidade  Metragem  \\\n",
              "0           Avenida Itacira, 255    Planalto Paulista  São Paulo      1000   \n",
              "1  Rua Aurelia Perez Alvarez, 42   Jardim dos Estados  São Paulo       496   \n",
              "2                 Rua Alba Valdez     Jardim Reimberg  São Paulo       125   \n",
              "3                             NaN      Jardim Morumbi  São Paulo       310   \n",
              "4        Rua Tobias Barreto, 195                Mooca  São Paulo       100   \n",
              "\n",
              "   Quartos  Banheiros  Vagas      Valor Moeda Valor_Temp Modalidade  \n",
              "0        4          8      6 7000000.00    R$  7.000.000       None  \n",
              "1        4          4      4 3700000.00    R$  3.700.000       None  \n",
              "2        4          3      2  380000.00    R$    380.000       None  \n",
              "3        3          2      4  685000.00    R$    685.000       None  \n",
              "4        3          2      2  540000.00    R$    540.000       None  "
            ],
            "text/html": [
              "\n",
              "  <div id=\"df-67687612-14d6-4704-a613-7a247737d83e\">\n",
              "    <div class=\"colab-df-container\">\n",
              "      <div>\n",
              "<style scoped>\n",
              "    .dataframe tbody tr th:only-of-type {\n",
              "        vertical-align: middle;\n",
              "    }\n",
              "\n",
              "    .dataframe tbody tr th {\n",
              "        vertical-align: top;\n",
              "    }\n",
              "\n",
              "    .dataframe thead th {\n",
              "        text-align: right;\n",
              "    }\n",
              "</style>\n",
              "<table border=\"1\" class=\"dataframe\">\n",
              "  <thead>\n",
              "    <tr style=\"text-align: right;\">\n",
              "      <th></th>\n",
              "      <th>Rua</th>\n",
              "      <th>Bairro</th>\n",
              "      <th>Cidade</th>\n",
              "      <th>Metragem</th>\n",
              "      <th>Quartos</th>\n",
              "      <th>Banheiros</th>\n",
              "      <th>Vagas</th>\n",
              "      <th>Valor</th>\n",
              "      <th>Moeda</th>\n",
              "      <th>Valor_Temp</th>\n",
              "      <th>Modalidade</th>\n",
              "    </tr>\n",
              "  </thead>\n",
              "  <tbody>\n",
              "    <tr>\n",
              "      <th>0</th>\n",
              "      <td>Avenida Itacira, 255</td>\n",
              "      <td>Planalto Paulista</td>\n",
              "      <td>São Paulo</td>\n",
              "      <td>1000</td>\n",
              "      <td>4</td>\n",
              "      <td>8</td>\n",
              "      <td>6</td>\n",
              "      <td>7000000.00</td>\n",
              "      <td>R$</td>\n",
              "      <td>7.000.000</td>\n",
              "      <td>None</td>\n",
              "    </tr>\n",
              "    <tr>\n",
              "      <th>1</th>\n",
              "      <td>Rua Aurelia Perez Alvarez, 42</td>\n",
              "      <td>Jardim dos Estados</td>\n",
              "      <td>São Paulo</td>\n",
              "      <td>496</td>\n",
              "      <td>4</td>\n",
              "      <td>4</td>\n",
              "      <td>4</td>\n",
              "      <td>3700000.00</td>\n",
              "      <td>R$</td>\n",
              "      <td>3.700.000</td>\n",
              "      <td>None</td>\n",
              "    </tr>\n",
              "    <tr>\n",
              "      <th>2</th>\n",
              "      <td>Rua Alba Valdez</td>\n",
              "      <td>Jardim Reimberg</td>\n",
              "      <td>São Paulo</td>\n",
              "      <td>125</td>\n",
              "      <td>4</td>\n",
              "      <td>3</td>\n",
              "      <td>2</td>\n",
              "      <td>380000.00</td>\n",
              "      <td>R$</td>\n",
              "      <td>380.000</td>\n",
              "      <td>None</td>\n",
              "    </tr>\n",
              "    <tr>\n",
              "      <th>3</th>\n",
              "      <td>NaN</td>\n",
              "      <td>Jardim Morumbi</td>\n",
              "      <td>São Paulo</td>\n",
              "      <td>310</td>\n",
              "      <td>3</td>\n",
              "      <td>2</td>\n",
              "      <td>4</td>\n",
              "      <td>685000.00</td>\n",
              "      <td>R$</td>\n",
              "      <td>685.000</td>\n",
              "      <td>None</td>\n",
              "    </tr>\n",
              "    <tr>\n",
              "      <th>4</th>\n",
              "      <td>Rua Tobias Barreto, 195</td>\n",
              "      <td>Mooca</td>\n",
              "      <td>São Paulo</td>\n",
              "      <td>100</td>\n",
              "      <td>3</td>\n",
              "      <td>2</td>\n",
              "      <td>2</td>\n",
              "      <td>540000.00</td>\n",
              "      <td>R$</td>\n",
              "      <td>540.000</td>\n",
              "      <td>None</td>\n",
              "    </tr>\n",
              "  </tbody>\n",
              "</table>\n",
              "</div>\n",
              "      <button class=\"colab-df-convert\" onclick=\"convertToInteractive('df-67687612-14d6-4704-a613-7a247737d83e')\"\n",
              "              title=\"Convert this dataframe to an interactive table.\"\n",
              "              style=\"display:none;\">\n",
              "        \n",
              "  <svg xmlns=\"http://www.w3.org/2000/svg\" height=\"24px\"viewBox=\"0 0 24 24\"\n",
              "       width=\"24px\">\n",
              "    <path d=\"M0 0h24v24H0V0z\" fill=\"none\"/>\n",
              "    <path d=\"M18.56 5.44l.94 2.06.94-2.06 2.06-.94-2.06-.94-.94-2.06-.94 2.06-2.06.94zm-11 1L8.5 8.5l.94-2.06 2.06-.94-2.06-.94L8.5 2.5l-.94 2.06-2.06.94zm10 10l.94 2.06.94-2.06 2.06-.94-2.06-.94-.94-2.06-.94 2.06-2.06.94z\"/><path d=\"M17.41 7.96l-1.37-1.37c-.4-.4-.92-.59-1.43-.59-.52 0-1.04.2-1.43.59L10.3 9.45l-7.72 7.72c-.78.78-.78 2.05 0 2.83L4 21.41c.39.39.9.59 1.41.59.51 0 1.02-.2 1.41-.59l7.78-7.78 2.81-2.81c.8-.78.8-2.07 0-2.86zM5.41 20L4 18.59l7.72-7.72 1.47 1.35L5.41 20z\"/>\n",
              "  </svg>\n",
              "      </button>\n",
              "      \n",
              "  <style>\n",
              "    .colab-df-container {\n",
              "      display:flex;\n",
              "      flex-wrap:wrap;\n",
              "      gap: 12px;\n",
              "    }\n",
              "\n",
              "    .colab-df-convert {\n",
              "      background-color: #E8F0FE;\n",
              "      border: none;\n",
              "      border-radius: 50%;\n",
              "      cursor: pointer;\n",
              "      display: none;\n",
              "      fill: #1967D2;\n",
              "      height: 32px;\n",
              "      padding: 0 0 0 0;\n",
              "      width: 32px;\n",
              "    }\n",
              "\n",
              "    .colab-df-convert:hover {\n",
              "      background-color: #E2EBFA;\n",
              "      box-shadow: 0px 1px 2px rgba(60, 64, 67, 0.3), 0px 1px 3px 1px rgba(60, 64, 67, 0.15);\n",
              "      fill: #174EA6;\n",
              "    }\n",
              "\n",
              "    [theme=dark] .colab-df-convert {\n",
              "      background-color: #3B4455;\n",
              "      fill: #D2E3FC;\n",
              "    }\n",
              "\n",
              "    [theme=dark] .colab-df-convert:hover {\n",
              "      background-color: #434B5C;\n",
              "      box-shadow: 0px 1px 3px 1px rgba(0, 0, 0, 0.15);\n",
              "      filter: drop-shadow(0px 1px 2px rgba(0, 0, 0, 0.3));\n",
              "      fill: #FFFFFF;\n",
              "    }\n",
              "  </style>\n",
              "\n",
              "      <script>\n",
              "        const buttonEl =\n",
              "          document.querySelector('#df-67687612-14d6-4704-a613-7a247737d83e button.colab-df-convert');\n",
              "        buttonEl.style.display =\n",
              "          google.colab.kernel.accessAllowed ? 'block' : 'none';\n",
              "\n",
              "        async function convertToInteractive(key) {\n",
              "          const element = document.querySelector('#df-67687612-14d6-4704-a613-7a247737d83e');\n",
              "          const dataTable =\n",
              "            await google.colab.kernel.invokeFunction('convertToInteractive',\n",
              "                                                     [key], {});\n",
              "          if (!dataTable) return;\n",
              "\n",
              "          const docLinkHtml = 'Like what you see? Visit the ' +\n",
              "            '<a target=\"_blank\" href=https://colab.research.google.com/notebooks/data_table.ipynb>data table notebook</a>'\n",
              "            + ' to learn more about interactive tables.';\n",
              "          element.innerHTML = '';\n",
              "          dataTable['output_type'] = 'display_data';\n",
              "          await google.colab.output.renderOutput(dataTable, element);\n",
              "          const docLink = document.createElement('div');\n",
              "          docLink.innerHTML = docLinkHtml;\n",
              "          element.appendChild(docLink);\n",
              "        }\n",
              "      </script>\n",
              "    </div>\n",
              "  </div>\n",
              "  "
            ]
          },
          "metadata": {},
          "execution_count": 310
        }
      ]
    },
    {
      "cell_type": "code",
      "source": [
        "dados.pop(\"Valor_Temp\")  # removendo o Valor_Temp\n",
        "dados.pop(\"Moeda\")  # removendo Moeda"
      ],
      "metadata": {
        "colab": {
          "base_uri": "https://localhost:8080/"
        },
        "id": "kiuowFmnIZBK",
        "outputId": "835d2bb6-d25a-4ba8-b868-7aaa45ad9e7e"
      },
      "execution_count": null,
      "outputs": [
        {
          "output_type": "execute_result",
          "data": {
            "text/plain": [
              "0        R$\n",
              "1        R$\n",
              "2        R$\n",
              "3        R$\n",
              "4        R$\n",
              "         ..\n",
              "10003    R$\n",
              "10004    R$\n",
              "10005    R$\n",
              "10006    R$\n",
              "10007    R$\n",
              "Name: Moeda, Length: 10008, dtype: object"
            ]
          },
          "metadata": {},
          "execution_count": 311
        }
      ]
    },
    {
      "cell_type": "code",
      "source": [
        "dados[\"Modalidade\"].unique()  # conferindo as entradas na coluna modalidade"
      ],
      "metadata": {
        "colab": {
          "base_uri": "https://localhost:8080/"
        },
        "id": "vE_g1qimKp0y",
        "outputId": "d0304fb4-9ca3-4867-d26f-739c5b45d285"
      },
      "execution_count": null,
      "outputs": [
        {
          "output_type": "execute_result",
          "data": {
            "text/plain": [
              "array([None, '/Mês', '/Ano', '/Dia'], dtype=object)"
            ]
          },
          "metadata": {},
          "execution_count": 312
        }
      ]
    },
    {
      "cell_type": "code",
      "source": [
        "dados[\"Modalidade\"] = dados[\"Modalidade\"].str.replace(\"/Mês\", \"Aluguel Mensal\", regex = True)  # substituindo as strings dos alugueis por algo mais descritivo\n",
        "dados[\"Modalidade\"] = dados[\"Modalidade\"].str.replace(\"/Ano\", \"Aluguel Anual\", regex = True)\n",
        "dados[\"Modalidade\"] = dados[\"Modalidade\"].str.replace(\"/Dia\", \"Aluguel Diário\", regex = True)"
      ],
      "metadata": {
        "id": "lcifxR-jKsyh"
      },
      "execution_count": null,
      "outputs": []
    },
    {
      "cell_type": "code",
      "source": [
        "dados[\"Modalidade\"].fillna(value=\"Venda\", inplace=True)  # substituindo o objeto python None por uma string"
      ],
      "metadata": {
        "id": "PrbI_4LlbePA"
      },
      "execution_count": null,
      "outputs": []
    },
    {
      "cell_type": "code",
      "source": [
        "dados[\"Modalidade\"].unique()  # verificando as substituições"
      ],
      "metadata": {
        "colab": {
          "base_uri": "https://localhost:8080/"
        },
        "id": "4fayMKslLEnR",
        "outputId": "d182ad52-c333-4899-a440-5d740f4ca34b"
      },
      "execution_count": null,
      "outputs": [
        {
          "output_type": "execute_result",
          "data": {
            "text/plain": [
              "array(['Venda', 'Aluguel Mensal', 'Aluguel Anual', 'Aluguel Diário'],\n",
              "      dtype=object)"
            ]
          },
          "metadata": {},
          "execution_count": 315
        }
      ]
    },
    {
      "cell_type": "markdown",
      "source": [
        "### Coluna Bairro"
      ],
      "metadata": {
        "id": "ImhwKB8Kikyo"
      }
    },
    {
      "cell_type": "code",
      "source": [
        "bairros_vazios = dados[\"Bairro\"].isna()  # verificando que existem entradas vazias em Bairro\n",
        "dados[bairros_vazios]"
      ],
      "metadata": {
        "colab": {
          "base_uri": "https://localhost:8080/"
        },
        "id": "CNinWFEilCQi",
        "outputId": "631c8027-837e-4087-c828-1770efeced05"
      },
      "execution_count": null,
      "outputs": [
        {
          "output_type": "execute_result",
          "data": {
            "text/plain": [
              "                                              Rua Bairro     Cidade  Metragem  \\\n",
              "7263                 Rua Madalena de Morais, 3773    NaN  São Paulo       742   \n",
              "7956                                Rua Vergueiro    NaN  São Paulo       103   \n",
              "7996                    Rua Alvorada do Sul, 3773    NaN  São Paulo       678   \n",
              "8126         Rua Professor Eduardo Monteiro, 3773    NaN  São Paulo       550   \n",
              "8566          Avenida Comendador Adibo Ares, 3773    NaN  São Paulo       694   \n",
              "8619                    Rua Alvorada do Sul, 3773    NaN  São Paulo       683   \n",
              "8739                    Rua Alvorada do Sul, 3773    NaN  São Paulo       683   \n",
              "8868         Rua Professor Eduardo Monteiro, 3773    NaN  São Paulo       555   \n",
              "8943                      Rua Santo Eufredo, 3773    NaN  São Paulo       846   \n",
              "8992         Rua Professor Eduardo Monteiro, 3773    NaN  São Paulo       555   \n",
              "9310  Rua Professor Lúcio Martins Rodrigues, 3773    NaN  São Paulo       358   \n",
              "9540                             Rua Pacobá, 3773    NaN  São Paulo      1009   \n",
              "\n",
              "      Quartos  Banheiros  Vagas      Valor      Modalidade  \n",
              "7263        4          8      6    9800.00  Aluguel Mensal  \n",
              "7956        3          2      2  640000.00           Venda  \n",
              "7996        4          8      8 6895000.00           Venda  \n",
              "8126        3          5      6 4000000.00           Venda  \n",
              "8566        4          6      6 3890000.00           Venda  \n",
              "8619        4          8      8 6895000.00           Venda  \n",
              "8739        4          8      8 6895000.00           Venda  \n",
              "8868        3          5      6 4000000.00           Venda  \n",
              "8943        4          8      8   30000.00  Aluguel Mensal  \n",
              "8992        3          5      6 4000000.00           Venda  \n",
              "9310        4          6      7 1600000.00           Venda  \n",
              "9540        5          6     10 6400000.00           Venda  "
            ],
            "text/html": [
              "\n",
              "  <div id=\"df-48c67874-c0de-459b-a879-9350ca7abaf2\">\n",
              "    <div class=\"colab-df-container\">\n",
              "      <div>\n",
              "<style scoped>\n",
              "    .dataframe tbody tr th:only-of-type {\n",
              "        vertical-align: middle;\n",
              "    }\n",
              "\n",
              "    .dataframe tbody tr th {\n",
              "        vertical-align: top;\n",
              "    }\n",
              "\n",
              "    .dataframe thead th {\n",
              "        text-align: right;\n",
              "    }\n",
              "</style>\n",
              "<table border=\"1\" class=\"dataframe\">\n",
              "  <thead>\n",
              "    <tr style=\"text-align: right;\">\n",
              "      <th></th>\n",
              "      <th>Rua</th>\n",
              "      <th>Bairro</th>\n",
              "      <th>Cidade</th>\n",
              "      <th>Metragem</th>\n",
              "      <th>Quartos</th>\n",
              "      <th>Banheiros</th>\n",
              "      <th>Vagas</th>\n",
              "      <th>Valor</th>\n",
              "      <th>Modalidade</th>\n",
              "    </tr>\n",
              "  </thead>\n",
              "  <tbody>\n",
              "    <tr>\n",
              "      <th>7263</th>\n",
              "      <td>Rua Madalena de Morais, 3773</td>\n",
              "      <td>NaN</td>\n",
              "      <td>São Paulo</td>\n",
              "      <td>742</td>\n",
              "      <td>4</td>\n",
              "      <td>8</td>\n",
              "      <td>6</td>\n",
              "      <td>9800.00</td>\n",
              "      <td>Aluguel Mensal</td>\n",
              "    </tr>\n",
              "    <tr>\n",
              "      <th>7956</th>\n",
              "      <td>Rua Vergueiro</td>\n",
              "      <td>NaN</td>\n",
              "      <td>São Paulo</td>\n",
              "      <td>103</td>\n",
              "      <td>3</td>\n",
              "      <td>2</td>\n",
              "      <td>2</td>\n",
              "      <td>640000.00</td>\n",
              "      <td>Venda</td>\n",
              "    </tr>\n",
              "    <tr>\n",
              "      <th>7996</th>\n",
              "      <td>Rua Alvorada do Sul, 3773</td>\n",
              "      <td>NaN</td>\n",
              "      <td>São Paulo</td>\n",
              "      <td>678</td>\n",
              "      <td>4</td>\n",
              "      <td>8</td>\n",
              "      <td>8</td>\n",
              "      <td>6895000.00</td>\n",
              "      <td>Venda</td>\n",
              "    </tr>\n",
              "    <tr>\n",
              "      <th>8126</th>\n",
              "      <td>Rua Professor Eduardo Monteiro, 3773</td>\n",
              "      <td>NaN</td>\n",
              "      <td>São Paulo</td>\n",
              "      <td>550</td>\n",
              "      <td>3</td>\n",
              "      <td>5</td>\n",
              "      <td>6</td>\n",
              "      <td>4000000.00</td>\n",
              "      <td>Venda</td>\n",
              "    </tr>\n",
              "    <tr>\n",
              "      <th>8566</th>\n",
              "      <td>Avenida Comendador Adibo Ares, 3773</td>\n",
              "      <td>NaN</td>\n",
              "      <td>São Paulo</td>\n",
              "      <td>694</td>\n",
              "      <td>4</td>\n",
              "      <td>6</td>\n",
              "      <td>6</td>\n",
              "      <td>3890000.00</td>\n",
              "      <td>Venda</td>\n",
              "    </tr>\n",
              "    <tr>\n",
              "      <th>8619</th>\n",
              "      <td>Rua Alvorada do Sul, 3773</td>\n",
              "      <td>NaN</td>\n",
              "      <td>São Paulo</td>\n",
              "      <td>683</td>\n",
              "      <td>4</td>\n",
              "      <td>8</td>\n",
              "      <td>8</td>\n",
              "      <td>6895000.00</td>\n",
              "      <td>Venda</td>\n",
              "    </tr>\n",
              "    <tr>\n",
              "      <th>8739</th>\n",
              "      <td>Rua Alvorada do Sul, 3773</td>\n",
              "      <td>NaN</td>\n",
              "      <td>São Paulo</td>\n",
              "      <td>683</td>\n",
              "      <td>4</td>\n",
              "      <td>8</td>\n",
              "      <td>8</td>\n",
              "      <td>6895000.00</td>\n",
              "      <td>Venda</td>\n",
              "    </tr>\n",
              "    <tr>\n",
              "      <th>8868</th>\n",
              "      <td>Rua Professor Eduardo Monteiro, 3773</td>\n",
              "      <td>NaN</td>\n",
              "      <td>São Paulo</td>\n",
              "      <td>555</td>\n",
              "      <td>3</td>\n",
              "      <td>5</td>\n",
              "      <td>6</td>\n",
              "      <td>4000000.00</td>\n",
              "      <td>Venda</td>\n",
              "    </tr>\n",
              "    <tr>\n",
              "      <th>8943</th>\n",
              "      <td>Rua Santo Eufredo, 3773</td>\n",
              "      <td>NaN</td>\n",
              "      <td>São Paulo</td>\n",
              "      <td>846</td>\n",
              "      <td>4</td>\n",
              "      <td>8</td>\n",
              "      <td>8</td>\n",
              "      <td>30000.00</td>\n",
              "      <td>Aluguel Mensal</td>\n",
              "    </tr>\n",
              "    <tr>\n",
              "      <th>8992</th>\n",
              "      <td>Rua Professor Eduardo Monteiro, 3773</td>\n",
              "      <td>NaN</td>\n",
              "      <td>São Paulo</td>\n",
              "      <td>555</td>\n",
              "      <td>3</td>\n",
              "      <td>5</td>\n",
              "      <td>6</td>\n",
              "      <td>4000000.00</td>\n",
              "      <td>Venda</td>\n",
              "    </tr>\n",
              "    <tr>\n",
              "      <th>9310</th>\n",
              "      <td>Rua Professor Lúcio Martins Rodrigues, 3773</td>\n",
              "      <td>NaN</td>\n",
              "      <td>São Paulo</td>\n",
              "      <td>358</td>\n",
              "      <td>4</td>\n",
              "      <td>6</td>\n",
              "      <td>7</td>\n",
              "      <td>1600000.00</td>\n",
              "      <td>Venda</td>\n",
              "    </tr>\n",
              "    <tr>\n",
              "      <th>9540</th>\n",
              "      <td>Rua Pacobá, 3773</td>\n",
              "      <td>NaN</td>\n",
              "      <td>São Paulo</td>\n",
              "      <td>1009</td>\n",
              "      <td>5</td>\n",
              "      <td>6</td>\n",
              "      <td>10</td>\n",
              "      <td>6400000.00</td>\n",
              "      <td>Venda</td>\n",
              "    </tr>\n",
              "  </tbody>\n",
              "</table>\n",
              "</div>\n",
              "      <button class=\"colab-df-convert\" onclick=\"convertToInteractive('df-48c67874-c0de-459b-a879-9350ca7abaf2')\"\n",
              "              title=\"Convert this dataframe to an interactive table.\"\n",
              "              style=\"display:none;\">\n",
              "        \n",
              "  <svg xmlns=\"http://www.w3.org/2000/svg\" height=\"24px\"viewBox=\"0 0 24 24\"\n",
              "       width=\"24px\">\n",
              "    <path d=\"M0 0h24v24H0V0z\" fill=\"none\"/>\n",
              "    <path d=\"M18.56 5.44l.94 2.06.94-2.06 2.06-.94-2.06-.94-.94-2.06-.94 2.06-2.06.94zm-11 1L8.5 8.5l.94-2.06 2.06-.94-2.06-.94L8.5 2.5l-.94 2.06-2.06.94zm10 10l.94 2.06.94-2.06 2.06-.94-2.06-.94-.94-2.06-.94 2.06-2.06.94z\"/><path d=\"M17.41 7.96l-1.37-1.37c-.4-.4-.92-.59-1.43-.59-.52 0-1.04.2-1.43.59L10.3 9.45l-7.72 7.72c-.78.78-.78 2.05 0 2.83L4 21.41c.39.39.9.59 1.41.59.51 0 1.02-.2 1.41-.59l7.78-7.78 2.81-2.81c.8-.78.8-2.07 0-2.86zM5.41 20L4 18.59l7.72-7.72 1.47 1.35L5.41 20z\"/>\n",
              "  </svg>\n",
              "      </button>\n",
              "      \n",
              "  <style>\n",
              "    .colab-df-container {\n",
              "      display:flex;\n",
              "      flex-wrap:wrap;\n",
              "      gap: 12px;\n",
              "    }\n",
              "\n",
              "    .colab-df-convert {\n",
              "      background-color: #E8F0FE;\n",
              "      border: none;\n",
              "      border-radius: 50%;\n",
              "      cursor: pointer;\n",
              "      display: none;\n",
              "      fill: #1967D2;\n",
              "      height: 32px;\n",
              "      padding: 0 0 0 0;\n",
              "      width: 32px;\n",
              "    }\n",
              "\n",
              "    .colab-df-convert:hover {\n",
              "      background-color: #E2EBFA;\n",
              "      box-shadow: 0px 1px 2px rgba(60, 64, 67, 0.3), 0px 1px 3px 1px rgba(60, 64, 67, 0.15);\n",
              "      fill: #174EA6;\n",
              "    }\n",
              "\n",
              "    [theme=dark] .colab-df-convert {\n",
              "      background-color: #3B4455;\n",
              "      fill: #D2E3FC;\n",
              "    }\n",
              "\n",
              "    [theme=dark] .colab-df-convert:hover {\n",
              "      background-color: #434B5C;\n",
              "      box-shadow: 0px 1px 3px 1px rgba(0, 0, 0, 0.15);\n",
              "      filter: drop-shadow(0px 1px 2px rgba(0, 0, 0, 0.3));\n",
              "      fill: #FFFFFF;\n",
              "    }\n",
              "  </style>\n",
              "\n",
              "      <script>\n",
              "        const buttonEl =\n",
              "          document.querySelector('#df-48c67874-c0de-459b-a879-9350ca7abaf2 button.colab-df-convert');\n",
              "        buttonEl.style.display =\n",
              "          google.colab.kernel.accessAllowed ? 'block' : 'none';\n",
              "\n",
              "        async function convertToInteractive(key) {\n",
              "          const element = document.querySelector('#df-48c67874-c0de-459b-a879-9350ca7abaf2');\n",
              "          const dataTable =\n",
              "            await google.colab.kernel.invokeFunction('convertToInteractive',\n",
              "                                                     [key], {});\n",
              "          if (!dataTable) return;\n",
              "\n",
              "          const docLinkHtml = 'Like what you see? Visit the ' +\n",
              "            '<a target=\"_blank\" href=https://colab.research.google.com/notebooks/data_table.ipynb>data table notebook</a>'\n",
              "            + ' to learn more about interactive tables.';\n",
              "          element.innerHTML = '';\n",
              "          dataTable['output_type'] = 'display_data';\n",
              "          await google.colab.output.renderOutput(dataTable, element);\n",
              "          const docLink = document.createElement('div');\n",
              "          docLink.innerHTML = docLinkHtml;\n",
              "          element.appendChild(docLink);\n",
              "        }\n",
              "      </script>\n",
              "    </div>\n",
              "  </div>\n",
              "  "
            ]
          },
          "metadata": {},
          "execution_count": 316
        }
      ]
    },
    {
      "cell_type": "code",
      "source": [
        "dados[\"Bairro\"].fillna(value=\"Sem Bairro\", inplace = True)\n",
        "dados[bairros_vazios]"
      ],
      "metadata": {
        "colab": {
          "base_uri": "https://localhost:8080/"
        },
        "id": "zwgZHMjnm3VZ",
        "outputId": "2e18f4cb-53f0-4632-8b95-b7befcf38ce3"
      },
      "execution_count": null,
      "outputs": [
        {
          "output_type": "execute_result",
          "data": {
            "text/plain": [
              "                                              Rua      Bairro     Cidade  \\\n",
              "7263                 Rua Madalena de Morais, 3773  Sem Bairro  São Paulo   \n",
              "7956                                Rua Vergueiro  Sem Bairro  São Paulo   \n",
              "7996                    Rua Alvorada do Sul, 3773  Sem Bairro  São Paulo   \n",
              "8126         Rua Professor Eduardo Monteiro, 3773  Sem Bairro  São Paulo   \n",
              "8566          Avenida Comendador Adibo Ares, 3773  Sem Bairro  São Paulo   \n",
              "8619                    Rua Alvorada do Sul, 3773  Sem Bairro  São Paulo   \n",
              "8739                    Rua Alvorada do Sul, 3773  Sem Bairro  São Paulo   \n",
              "8868         Rua Professor Eduardo Monteiro, 3773  Sem Bairro  São Paulo   \n",
              "8943                      Rua Santo Eufredo, 3773  Sem Bairro  São Paulo   \n",
              "8992         Rua Professor Eduardo Monteiro, 3773  Sem Bairro  São Paulo   \n",
              "9310  Rua Professor Lúcio Martins Rodrigues, 3773  Sem Bairro  São Paulo   \n",
              "9540                             Rua Pacobá, 3773  Sem Bairro  São Paulo   \n",
              "\n",
              "      Metragem  Quartos  Banheiros  Vagas      Valor      Modalidade  \n",
              "7263       742        4          8      6    9800.00  Aluguel Mensal  \n",
              "7956       103        3          2      2  640000.00           Venda  \n",
              "7996       678        4          8      8 6895000.00           Venda  \n",
              "8126       550        3          5      6 4000000.00           Venda  \n",
              "8566       694        4          6      6 3890000.00           Venda  \n",
              "8619       683        4          8      8 6895000.00           Venda  \n",
              "8739       683        4          8      8 6895000.00           Venda  \n",
              "8868       555        3          5      6 4000000.00           Venda  \n",
              "8943       846        4          8      8   30000.00  Aluguel Mensal  \n",
              "8992       555        3          5      6 4000000.00           Venda  \n",
              "9310       358        4          6      7 1600000.00           Venda  \n",
              "9540      1009        5          6     10 6400000.00           Venda  "
            ],
            "text/html": [
              "\n",
              "  <div id=\"df-88517b98-4ef4-4157-9fdc-ff0233e2c0b0\">\n",
              "    <div class=\"colab-df-container\">\n",
              "      <div>\n",
              "<style scoped>\n",
              "    .dataframe tbody tr th:only-of-type {\n",
              "        vertical-align: middle;\n",
              "    }\n",
              "\n",
              "    .dataframe tbody tr th {\n",
              "        vertical-align: top;\n",
              "    }\n",
              "\n",
              "    .dataframe thead th {\n",
              "        text-align: right;\n",
              "    }\n",
              "</style>\n",
              "<table border=\"1\" class=\"dataframe\">\n",
              "  <thead>\n",
              "    <tr style=\"text-align: right;\">\n",
              "      <th></th>\n",
              "      <th>Rua</th>\n",
              "      <th>Bairro</th>\n",
              "      <th>Cidade</th>\n",
              "      <th>Metragem</th>\n",
              "      <th>Quartos</th>\n",
              "      <th>Banheiros</th>\n",
              "      <th>Vagas</th>\n",
              "      <th>Valor</th>\n",
              "      <th>Modalidade</th>\n",
              "    </tr>\n",
              "  </thead>\n",
              "  <tbody>\n",
              "    <tr>\n",
              "      <th>7263</th>\n",
              "      <td>Rua Madalena de Morais, 3773</td>\n",
              "      <td>Sem Bairro</td>\n",
              "      <td>São Paulo</td>\n",
              "      <td>742</td>\n",
              "      <td>4</td>\n",
              "      <td>8</td>\n",
              "      <td>6</td>\n",
              "      <td>9800.00</td>\n",
              "      <td>Aluguel Mensal</td>\n",
              "    </tr>\n",
              "    <tr>\n",
              "      <th>7956</th>\n",
              "      <td>Rua Vergueiro</td>\n",
              "      <td>Sem Bairro</td>\n",
              "      <td>São Paulo</td>\n",
              "      <td>103</td>\n",
              "      <td>3</td>\n",
              "      <td>2</td>\n",
              "      <td>2</td>\n",
              "      <td>640000.00</td>\n",
              "      <td>Venda</td>\n",
              "    </tr>\n",
              "    <tr>\n",
              "      <th>7996</th>\n",
              "      <td>Rua Alvorada do Sul, 3773</td>\n",
              "      <td>Sem Bairro</td>\n",
              "      <td>São Paulo</td>\n",
              "      <td>678</td>\n",
              "      <td>4</td>\n",
              "      <td>8</td>\n",
              "      <td>8</td>\n",
              "      <td>6895000.00</td>\n",
              "      <td>Venda</td>\n",
              "    </tr>\n",
              "    <tr>\n",
              "      <th>8126</th>\n",
              "      <td>Rua Professor Eduardo Monteiro, 3773</td>\n",
              "      <td>Sem Bairro</td>\n",
              "      <td>São Paulo</td>\n",
              "      <td>550</td>\n",
              "      <td>3</td>\n",
              "      <td>5</td>\n",
              "      <td>6</td>\n",
              "      <td>4000000.00</td>\n",
              "      <td>Venda</td>\n",
              "    </tr>\n",
              "    <tr>\n",
              "      <th>8566</th>\n",
              "      <td>Avenida Comendador Adibo Ares, 3773</td>\n",
              "      <td>Sem Bairro</td>\n",
              "      <td>São Paulo</td>\n",
              "      <td>694</td>\n",
              "      <td>4</td>\n",
              "      <td>6</td>\n",
              "      <td>6</td>\n",
              "      <td>3890000.00</td>\n",
              "      <td>Venda</td>\n",
              "    </tr>\n",
              "    <tr>\n",
              "      <th>8619</th>\n",
              "      <td>Rua Alvorada do Sul, 3773</td>\n",
              "      <td>Sem Bairro</td>\n",
              "      <td>São Paulo</td>\n",
              "      <td>683</td>\n",
              "      <td>4</td>\n",
              "      <td>8</td>\n",
              "      <td>8</td>\n",
              "      <td>6895000.00</td>\n",
              "      <td>Venda</td>\n",
              "    </tr>\n",
              "    <tr>\n",
              "      <th>8739</th>\n",
              "      <td>Rua Alvorada do Sul, 3773</td>\n",
              "      <td>Sem Bairro</td>\n",
              "      <td>São Paulo</td>\n",
              "      <td>683</td>\n",
              "      <td>4</td>\n",
              "      <td>8</td>\n",
              "      <td>8</td>\n",
              "      <td>6895000.00</td>\n",
              "      <td>Venda</td>\n",
              "    </tr>\n",
              "    <tr>\n",
              "      <th>8868</th>\n",
              "      <td>Rua Professor Eduardo Monteiro, 3773</td>\n",
              "      <td>Sem Bairro</td>\n",
              "      <td>São Paulo</td>\n",
              "      <td>555</td>\n",
              "      <td>3</td>\n",
              "      <td>5</td>\n",
              "      <td>6</td>\n",
              "      <td>4000000.00</td>\n",
              "      <td>Venda</td>\n",
              "    </tr>\n",
              "    <tr>\n",
              "      <th>8943</th>\n",
              "      <td>Rua Santo Eufredo, 3773</td>\n",
              "      <td>Sem Bairro</td>\n",
              "      <td>São Paulo</td>\n",
              "      <td>846</td>\n",
              "      <td>4</td>\n",
              "      <td>8</td>\n",
              "      <td>8</td>\n",
              "      <td>30000.00</td>\n",
              "      <td>Aluguel Mensal</td>\n",
              "    </tr>\n",
              "    <tr>\n",
              "      <th>8992</th>\n",
              "      <td>Rua Professor Eduardo Monteiro, 3773</td>\n",
              "      <td>Sem Bairro</td>\n",
              "      <td>São Paulo</td>\n",
              "      <td>555</td>\n",
              "      <td>3</td>\n",
              "      <td>5</td>\n",
              "      <td>6</td>\n",
              "      <td>4000000.00</td>\n",
              "      <td>Venda</td>\n",
              "    </tr>\n",
              "    <tr>\n",
              "      <th>9310</th>\n",
              "      <td>Rua Professor Lúcio Martins Rodrigues, 3773</td>\n",
              "      <td>Sem Bairro</td>\n",
              "      <td>São Paulo</td>\n",
              "      <td>358</td>\n",
              "      <td>4</td>\n",
              "      <td>6</td>\n",
              "      <td>7</td>\n",
              "      <td>1600000.00</td>\n",
              "      <td>Venda</td>\n",
              "    </tr>\n",
              "    <tr>\n",
              "      <th>9540</th>\n",
              "      <td>Rua Pacobá, 3773</td>\n",
              "      <td>Sem Bairro</td>\n",
              "      <td>São Paulo</td>\n",
              "      <td>1009</td>\n",
              "      <td>5</td>\n",
              "      <td>6</td>\n",
              "      <td>10</td>\n",
              "      <td>6400000.00</td>\n",
              "      <td>Venda</td>\n",
              "    </tr>\n",
              "  </tbody>\n",
              "</table>\n",
              "</div>\n",
              "      <button class=\"colab-df-convert\" onclick=\"convertToInteractive('df-88517b98-4ef4-4157-9fdc-ff0233e2c0b0')\"\n",
              "              title=\"Convert this dataframe to an interactive table.\"\n",
              "              style=\"display:none;\">\n",
              "        \n",
              "  <svg xmlns=\"http://www.w3.org/2000/svg\" height=\"24px\"viewBox=\"0 0 24 24\"\n",
              "       width=\"24px\">\n",
              "    <path d=\"M0 0h24v24H0V0z\" fill=\"none\"/>\n",
              "    <path d=\"M18.56 5.44l.94 2.06.94-2.06 2.06-.94-2.06-.94-.94-2.06-.94 2.06-2.06.94zm-11 1L8.5 8.5l.94-2.06 2.06-.94-2.06-.94L8.5 2.5l-.94 2.06-2.06.94zm10 10l.94 2.06.94-2.06 2.06-.94-2.06-.94-.94-2.06-.94 2.06-2.06.94z\"/><path d=\"M17.41 7.96l-1.37-1.37c-.4-.4-.92-.59-1.43-.59-.52 0-1.04.2-1.43.59L10.3 9.45l-7.72 7.72c-.78.78-.78 2.05 0 2.83L4 21.41c.39.39.9.59 1.41.59.51 0 1.02-.2 1.41-.59l7.78-7.78 2.81-2.81c.8-.78.8-2.07 0-2.86zM5.41 20L4 18.59l7.72-7.72 1.47 1.35L5.41 20z\"/>\n",
              "  </svg>\n",
              "      </button>\n",
              "      \n",
              "  <style>\n",
              "    .colab-df-container {\n",
              "      display:flex;\n",
              "      flex-wrap:wrap;\n",
              "      gap: 12px;\n",
              "    }\n",
              "\n",
              "    .colab-df-convert {\n",
              "      background-color: #E8F0FE;\n",
              "      border: none;\n",
              "      border-radius: 50%;\n",
              "      cursor: pointer;\n",
              "      display: none;\n",
              "      fill: #1967D2;\n",
              "      height: 32px;\n",
              "      padding: 0 0 0 0;\n",
              "      width: 32px;\n",
              "    }\n",
              "\n",
              "    .colab-df-convert:hover {\n",
              "      background-color: #E2EBFA;\n",
              "      box-shadow: 0px 1px 2px rgba(60, 64, 67, 0.3), 0px 1px 3px 1px rgba(60, 64, 67, 0.15);\n",
              "      fill: #174EA6;\n",
              "    }\n",
              "\n",
              "    [theme=dark] .colab-df-convert {\n",
              "      background-color: #3B4455;\n",
              "      fill: #D2E3FC;\n",
              "    }\n",
              "\n",
              "    [theme=dark] .colab-df-convert:hover {\n",
              "      background-color: #434B5C;\n",
              "      box-shadow: 0px 1px 3px 1px rgba(0, 0, 0, 0.15);\n",
              "      filter: drop-shadow(0px 1px 2px rgba(0, 0, 0, 0.3));\n",
              "      fill: #FFFFFF;\n",
              "    }\n",
              "  </style>\n",
              "\n",
              "      <script>\n",
              "        const buttonEl =\n",
              "          document.querySelector('#df-88517b98-4ef4-4157-9fdc-ff0233e2c0b0 button.colab-df-convert');\n",
              "        buttonEl.style.display =\n",
              "          google.colab.kernel.accessAllowed ? 'block' : 'none';\n",
              "\n",
              "        async function convertToInteractive(key) {\n",
              "          const element = document.querySelector('#df-88517b98-4ef4-4157-9fdc-ff0233e2c0b0');\n",
              "          const dataTable =\n",
              "            await google.colab.kernel.invokeFunction('convertToInteractive',\n",
              "                                                     [key], {});\n",
              "          if (!dataTable) return;\n",
              "\n",
              "          const docLinkHtml = 'Like what you see? Visit the ' +\n",
              "            '<a target=\"_blank\" href=https://colab.research.google.com/notebooks/data_table.ipynb>data table notebook</a>'\n",
              "            + ' to learn more about interactive tables.';\n",
              "          element.innerHTML = '';\n",
              "          dataTable['output_type'] = 'display_data';\n",
              "          await google.colab.output.renderOutput(dataTable, element);\n",
              "          const docLink = document.createElement('div');\n",
              "          docLink.innerHTML = docLinkHtml;\n",
              "          element.appendChild(docLink);\n",
              "        }\n",
              "      </script>\n",
              "    </div>\n",
              "  </div>\n",
              "  "
            ]
          },
          "metadata": {},
          "execution_count": 317
        }
      ]
    },
    {
      "cell_type": "code",
      "source": [
        "bairros_unicos = dados[\"Bairro\"].unique()  # para dar uma explorada nos nomes dos bairros em ordem alfabética\n",
        "bairros_unicos.sort()\n",
        "bairros_unicos  # mas os bairros com acento no A ficaram em último"
      ],
      "metadata": {
        "colab": {
          "base_uri": "https://localhost:8080/"
        },
        "id": "G6o_1TWRo1sT",
        "outputId": "705a1262-8977-47a0-a56a-cfa18eb4bf6c"
      },
      "execution_count": null,
      "outputs": [
        {
          "output_type": "execute_result",
          "data": {
            "text/plain": [
              "array(['Aclimação', 'Alto da Boa Vista', 'Alto da Lapa', 'Alto da Mooca',\n",
              "       'Alto de Pinheiros', 'Aricanduva', 'Balneário Mar Paulista',\n",
              "       'Barra Funda', 'Barro Branco (Zona Norte)', 'Bela Aliança',\n",
              "       'Bela Vista', 'Belenzinho', 'Boaçava', 'Bom Retiro', 'Bortolândia',\n",
              "       'Bosque da Saúde', 'Brasilândia', 'Brooklin', 'Brooklin Novo',\n",
              "       'Brooklin Paulista', 'Brás', 'Burgo Paulista', 'Butantã',\n",
              "       'Cambuci', 'Campininha', 'Campo Belo', 'Campo Grande',\n",
              "       'Campos Elíseos', 'Canindé', 'Capela do Socorro', 'Capão Redondo',\n",
              "       'Carandiru', 'Casa Verde', 'Casa Verde Alta', 'Catumbi',\n",
              "       'Caxingui', 'Cerqueira César', 'Chora Menino',\n",
              "       'Chácara Belenzinho', 'Chácara Califórnia', 'Chácara Flora',\n",
              "       'Chácara Inglesa', 'Chácara Japonesa', 'Chácara Jaraguá',\n",
              "       'Chácara Mafalda', 'Chácara Meyer', 'Chácara Monte Alegre',\n",
              "       'Chácara Santo Antônio (Zona Leste)',\n",
              "       'Chácara Santo Antônio (Zona Sul)', 'Chácara Seis de Outubro',\n",
              "       'Chácara Tatuapé', 'Chácara das Paineiras', 'Cidade Ademar',\n",
              "       'Cidade Antônio Estevão de Carvalho', 'Cidade Centenário',\n",
              "       'Cidade Domitila', 'Cidade Dutra', 'Cidade Jardim', 'Cidade Líder',\n",
              "       'Cidade Monções', 'Cidade Mãe do Céu', 'Cidade Patriarca',\n",
              "       'Cidade São Francisco', 'Cidade São Mateus', 'Cidade Vargas',\n",
              "       'Cidade dos Bandeirantes', 'City América',\n",
              "       'Conjunto Habitacional Barreira Grande',\n",
              "       'Conjunto Habitacional Castro Alves',\n",
              "       'Conjunto Promorar Raposo Tavares',\n",
              "       'Conjunto Residencial Bandeirantes',\n",
              "       'Conjunto Residencial Butantã',\n",
              "       'Conjunto Residencial Jardim Canaã',\n",
              "       'Conjunto Residencial José Bonifácio',\n",
              "       'Conjunto Residencial Morada do Sol',\n",
              "       'Conjunto Residencial Vista Verde', 'Consolação', 'Cupecê',\n",
              "       'Cursino', 'Educandário', 'Engenheiro Goulart', 'Fazenda Morumbi',\n",
              "       'Ferreira', 'Granja Julieta', 'Guaianases', 'Guaianazes',\n",
              "       'Higienópolis', 'Horto Florestal', 'Ibirapuera', 'Imirim',\n",
              "       'Indianópolis', 'Instituto de Previdência', 'Interlagos',\n",
              "       'Ipiranga', 'Itaberaba', 'Itaim Bibi', 'Itaquera', 'Jabaquara',\n",
              "       'Jaguaré', 'Jaraguá', 'Jardim Aeroporto',\n",
              "       'Jardim Alvorada (Zona Oeste)', 'Jardim Ampliação',\n",
              "       'Jardim Amália', 'Jardim América', 'Jardim Ana Maria',\n",
              "       'Jardim Analia Franco', 'Jardim Anhanguera',\n",
              "       'Jardim Anália Franco', 'Jardim Aricanduva', 'Jardim Arize',\n",
              "       'Jardim Aurélia', 'Jardim Avelino', 'Jardim Avenida',\n",
              "       'Jardim Bandeirantes (Zona Norte)', 'Jardim Benfica',\n",
              "       'Jardim Boa Vista (Zona Oeste)', 'Jardim Bonfiglioli',\n",
              "       'Jardim Botucatu', 'Jardim Brasil (Zona Norte)',\n",
              "       'Jardim Brasil (Zona Sul)', 'Jardim Brasília (Zona Leste)',\n",
              "       'Jardim Bélgica', 'Jardim Camargo Novo', 'Jardim Cambara',\n",
              "       'Jardim Campo Grande', 'Jardim Caravelas', 'Jardim Carlu',\n",
              "       'Jardim Casablanca', 'Jardim Castelo', 'Jardim Catanduva',\n",
              "       'Jardim Catarina', 'Jardim Celeste', 'Jardim Cidade Pirituba',\n",
              "       'Jardim Cidalia', 'Jardim Cidália', 'Jardim Cláudia',\n",
              "       'Jardim Coimbra', 'Jardim Colombo', 'Jardim Colonial',\n",
              "       'Jardim Colorado', 'Jardim Consórcio', 'Jardim Cordeiro',\n",
              "       'Jardim Cotiana', 'Jardim Cristal', 'Jardim Célia (Zona Sul)',\n",
              "       \"Jardim D'Abril\", 'Jardim Danfer', 'Jardim Dom Bosco',\n",
              "       'Jardim Domitila', 'Jardim Dracena', 'Jardim Egle',\n",
              "       'Jardim Eliana', 'Jardim Ernestina', 'Jardim Esmeralda',\n",
              "       'Jardim Ester', 'Jardim Ester Yolanda', 'Jardim Europa',\n",
              "       'Jardim Everest', 'Jardim Felicidade (Zona Oeste)',\n",
              "       'Jardim Fernandes', 'Jardim Floresta', 'Jardim Franca',\n",
              "       'Jardim Germânia', 'Jardim Gonzaga', 'Jardim Guairaca',\n",
              "       'Jardim Guanca', 'Jardim Guapira', 'Jardim Guarapiranga',\n",
              "       'Jardim Guarau', 'Jardim Guedala', 'Jardim Heliomar',\n",
              "       'Jardim Hípico', 'Jardim Ibitirama',\n",
              "       'Jardim Imperador (Zona Leste)', 'Jardim Independência',\n",
              "       'Jardim Ipanema (Zona Oeste)', 'Jardim Ipanema (Zona Sul)',\n",
              "       'Jardim Itacolomi', 'Jardim Itapemirim', 'Jardim Itapeva',\n",
              "       'Jardim Iva', 'Jardim Ivana', 'Jardim Jabaquara', 'Jardim Japão',\n",
              "       'Jardim Jaraguá', 'Jardim Jaú (Zona Leste)', 'Jardim Jussara',\n",
              "       'Jardim Leila', 'Jardim Leonor', 'Jardim Leonor Mendes de Barros',\n",
              "       'Jardim Londrina', 'Jardim Lourdes', 'Jardim Luanda',\n",
              "       'Jardim Luzitânia', 'Jardim Mangalot', 'Jardim Maracanã',\n",
              "       'Jardim Marajoara', 'Jardim Maria Augusta', 'Jardim Maria Duarte',\n",
              "       'Jardim Maria Estela', 'Jardim Maria Luiza', 'Jardim Maringá',\n",
              "       'Jardim Marília', 'Jardim Miriam', 'Jardim Modelo',\n",
              "       'Jardim Monte Alegre', 'Jardim Monte Azul', 'Jardim Monte Kemel',\n",
              "       'Jardim Morais Prado', 'Jardim Morro Verde', 'Jardim Morumbi',\n",
              "       'Jardim Nice', 'Jardim Niteroi', 'Jardim Nossa Senhora do Carmo',\n",
              "       'Jardim Nova Germania', 'Jardim Nove de Julho',\n",
              "       'Jardim Novo Mundo', 'Jardim Odete', 'Jardim Olympia',\n",
              "       'Jardim Oriental', 'Jardim Palmares (Zona Sul)', 'Jardim Panorama',\n",
              "       'Jardim Panorama (Zona Leste)', \"Jardim Panorama D'Oeste\",\n",
              "       'Jardim Paraíso', 'Jardim Parque Morumbi', 'Jardim Patente',\n",
              "       'Jardim Patente Novo', 'Jardim Paulista', 'Jardim Paulistano',\n",
              "       'Jardim Penha', 'Jardim Peri', 'Jardim Peri Peri',\n",
              "       'Jardim Petropolis', 'Jardim Petrópolis', 'Jardim Pinheiros',\n",
              "       'Jardim Pirituba', 'Jardim Planalto', 'Jardim Ponte Rasa',\n",
              "       'Jardim Popular', 'Jardim Primavera (Zona Sul)',\n",
              "       'Jardim Promissão', 'Jardim Prudência', 'Jardim Raposo Tavares',\n",
              "       'Jardim Record', 'Jardim Reimberg', 'Jardim Rincão',\n",
              "       'Jardim Rio Pequeno', 'Jardim Riviera', 'Jardim Rizzo',\n",
              "       'Jardim Rosa Maria', 'Jardim Sabará', 'Jardim Santa Adélia',\n",
              "       'Jardim Santa Cruz (Campo Grande)', 'Jardim Santa Cruz (Sacomã)',\n",
              "       'Jardim Santa Fé (Zona Sul)', 'Jardim Santa Helena',\n",
              "       'Jardim Santa Maria', 'Jardim Santo Amaro', 'Jardim Santo Antônio',\n",
              "       'Jardim Santo Elias', 'Jardim Sarah', 'Jardim Satélite',\n",
              "       'Jardim Sul São Paulo', 'Jardim São Bento',\n",
              "       'Jardim São Carlos (Zona Leste)', 'Jardim São Carlos (Zona Sul)',\n",
              "       'Jardim São Jorge', 'Jardim São Jorge (Raposo Tavares)',\n",
              "       'Jardim São José', 'Jardim São Luís', 'Jardim São Nicolau',\n",
              "       'Jardim São Paulo(Zona Norte)', 'Jardim Sílvia (Zona Oeste)',\n",
              "       'Jardim Taboao', 'Jardim Taboão', 'Jardim Taquaral',\n",
              "       'Jardim Tenani', 'Jardim Teresa', 'Jardim Textil', 'Jardim Tietê',\n",
              "       'Jardim Tremembe', 'Jardim Tremembé', 'Jardim Triana',\n",
              "       'Jardim Trussardi', 'Jardim Três Marias', 'Jardim Ubirajara',\n",
              "       'Jardim Umarizal', 'Jardim Umuarama', 'Jardim Vaz de Lima',\n",
              "       'Jardim Vera Cruz', 'Jardim Vera Cruz(Zona Leste)',\n",
              "       'Jardim Vergueiro', 'Jardim Vergueiro (Sacomã)', 'Jardim Viana',\n",
              "       'Jardim Vila Carrão', 'Jardim Vila Formosa', 'Jardim Vila Mariana',\n",
              "       'Jardim Virginia Bianca', 'Jardim Vista Linda',\n",
              "       'Jardim Vitoria Regia', 'Jardim Vitória Régia', 'Jardim Vivan',\n",
              "       'Jardim da Glória', 'Jardim da Pedreira', 'Jardim da Saúde',\n",
              "       'Jardim das Acácias', 'Jardim das Bandeiras',\n",
              "       'Jardim das Camélias', 'Jardim das Carmelitas',\n",
              "       'Jardim das Imbuias', 'Jardim das Laranjeiras',\n",
              "       'Jardim das Vertentes', 'Jardim de Lorenzo', 'Jardim do Campo',\n",
              "       'Jardim do Carmo', 'Jardim do Colégio (Zona Norte)',\n",
              "       'Jardim dos Cataldis', 'Jardim dos Estados',\n",
              "       'Jardim dos Pinheiros', 'Jardim dos Prados', 'Jardim Íris',\n",
              "       'Jardins', 'Jurubatuba', 'Lapa', 'Lapa de Baixo', 'Lar São Paulo',\n",
              "       'Lauzane Paulista', 'Liberdade', 'Limoeiro', 'Mandaqui',\n",
              "       'Maranhão', 'Mirandópolis', 'Moema', 'Mooca', 'Morro dos Ingleses',\n",
              "       'Morumbi', 'Nossa Senhora do Ó', 'Nova Piraju', 'Pacaembu',\n",
              "       'Paineiras do Morumbi', 'Parada Inglesa', 'Parada XV de Novembro',\n",
              "       'Paraisópolis', 'Paraíso', 'Paraíso do Morumbi', 'Pari',\n",
              "       'Parque Alves de Lima', 'Parque Boturussu', 'Parque Casa de Pedra',\n",
              "       'Parque Colonial', 'Parque Continental', 'Parque CíSão Pauloer',\n",
              "       'Parque Edu Chaves', 'Parque Fernanda', 'Parque Fongaro',\n",
              "       'Parque Guarani', 'Parque Imperial', 'Parque Ipê',\n",
              "       'Parque Jabaquara', 'Parque Mandaqui', 'Parque Maria Domitila',\n",
              "       'Parque Maria Fernandes', 'Parque Maria Helena',\n",
              "       'Parque Monteiro Soares', 'Parque Munhoz', 'Parque Nações Unidas',\n",
              "       'Parque Novo Mundo', 'Parque Peruche', 'Parque Ramos Freitas',\n",
              "       'Parque Regina', 'Parque Residencial Julia',\n",
              "       'Parque Residencial Oratorio', 'Parque Santa Cecília',\n",
              "       'Parque Santa Madalena', 'Parque Santa Rita',\n",
              "       'Parque Santo Antônio (Aricanduva)', 'Parque Savoy City',\n",
              "       'Parque Sevilha', 'Parque São Domingos', 'Parque São Jorge',\n",
              "       'Parque São Lucas', 'Parque São Rafael', 'Parque Vitória',\n",
              "       'Parque da Lapa', 'Parque da Mooca', 'Parque da Vila Prudente',\n",
              "       'Parque das Paineiras', 'Parque das Árvores', 'Parque do Castelo',\n",
              "       'Parque do Terceiro Lago', 'Parque dos Príncipes',\n",
              "       'Penha de França', 'Perdizes', 'Pinheiros', 'Piqueri', 'Pirituba',\n",
              "       'Planalto Paulista', 'Pompeia', 'Praia Azul', 'Praia Paulistinha',\n",
              "       'Praia da Lagoa', 'Quarta Parada', 'Quinta da Paineira',\n",
              "       'Real Parque', 'Recanto dos Sonhos', 'Retiro Morumbi',\n",
              "       'Rio Bonito', 'Rio Pequeno', 'Rolinópolis', 'Sacomã',\n",
              "       'Santa Cecília', 'Santa Teresinha', 'Santana', 'Santo Amaro',\n",
              "       'Saúde', 'Sem Bairro', 'Siciliano', 'Socorro', 'Sumarezinho',\n",
              "       'Sumaré', 'Super Quadra Morumbi', 'São João Clímaco', 'São Judas',\n",
              "       'São Lucas', 'São Miguel Paulista', 'Sítio Represa',\n",
              "       'Sítio da Figueira', 'Sítio do Mandaqui', 'Tatuapé',\n",
              "       'Terceira Divisão de Interlagos', 'Tremembé', 'Tucuruvi',\n",
              "       'Veleiros', 'Vila Adalgisa', 'Vila Agueda', 'Vila Albertina',\n",
              "       'Vila Alexandria', 'Vila Almeida', 'Vila Alpina', 'Vila Amélia',\n",
              "       'Vila América', 'Vila Analia', 'Vila Anastácio', 'Vila Andrade',\n",
              "       'Vila Anglo Brasileira', 'Vila Anhangüera', 'Vila Antonieta',\n",
              "       'Vila Antonina', 'Vila Antônio', 'Vila Antônio dos Santos',\n",
              "       'Vila Aparecida', 'Vila Araguaia', 'Vila Aricanduva',\n",
              "       'Vila Arriete', 'Vila Aurea', 'Vila Aurora (Zona Norte)',\n",
              "       'Vila Ayrosa', 'Vila Babilônia', 'Vila Baby',\n",
              "       'Vila Bancária Munhoz', 'Vila Bandeirantes', 'Vila Barbosa',\n",
              "       'Vila Bela', 'Vila Bela Aliança', 'Vila Bertioga', 'Vila Boaçava',\n",
              "       'Vila Bonilha Nova', 'Vila Brasilina', 'Vila Brasílio Machado',\n",
              "       'Vila Buenos Aires', 'Vila Butantã', 'Vila Califórnia',\n",
              "       'Vila Califórnia(Zona Sul)', 'Vila Campanela', 'Vila Campestre',\n",
              "       'Vila Campo Grande', 'Vila Canero', 'Vila Caraguatá',\n",
              "       'Vila Carbone', 'Vila Cardoso Franco', 'Vila Carioca',\n",
              "       'Vila Carlos de Campos', 'Vila Carmosina', 'Vila Carolina',\n",
              "       'Vila Carrao', 'Vila Carrão', 'Vila Castelo', 'Vila Celeste',\n",
              "       'Vila Clara', 'Vila Clarice', 'Vila Clementino', 'Vila Cleonice',\n",
              "       'Vila Cláudia', 'Vila Comercial', 'Vila Conde do Pinhal',\n",
              "       'Vila Congonhas', 'Vila Constancia', 'Vila Constança',\n",
              "       'Vila Corberi', 'Vila Cordeiro', 'Vila Cruzeiro',\n",
              "       'Vila Cunha Bueno', 'Vila Curuçá', 'Vila Dalila', 'Vila Dalva',\n",
              "       'Vila Darli', 'Vila Deodoro', 'Vila Diva (Zona Leste)',\n",
              "       'Vila Dom Pedro I', 'Vila Dom Pedro II', 'Vila Domitila',\n",
              "       'Vila Dorna', 'Vila Duarte', 'Vila ESão Pauloerança',\n",
              "       'Vila Elvira', 'Vila Ema', 'Vila Emir', 'Vila Ester (Zona Norte)',\n",
              "       'Vila Euthalia', 'Vila Fachini', 'Vila Fernandes', 'Vila Fiat Lux',\n",
              "       'Vila Firmiano Pinto', 'Vila Formosa', 'Vila Gea',\n",
              "       'Vila Gertrudes', 'Vila Gomes', 'Vila Gomes Cardim', 'Vila Guaca',\n",
              "       'Vila Guarani (Z Sul)', 'Vila Guedes', 'Vila Guilherme',\n",
              "       'Vila Guilhermina', 'Vila Gumercindo', 'Vila Gustavo',\n",
              "       'Vila Hamburguesa', 'Vila Hebe', 'Vila Ida', 'Vila Império',\n",
              "       'Vila Inah', 'Vila Independência', 'Vila Indiana',\n",
              "       'Vila Industrial', 'Vila Inglesa', 'Vila Invernada',\n",
              "       'Vila Ipojuca', 'Vila Irmãos Arnoni', 'Vila Isa',\n",
              "       'Vila Isolina Mazzei', 'Vila Ivg', 'Vila Ivone', 'Vila Jacuí',\n",
              "       'Vila Jaguara', 'Vila Joaniza', 'Vila João Batista', 'Vila Jurema',\n",
              "       'Vila Lageado', 'Vila Laís', 'Vila Leonor', 'Vila Leopoldina',\n",
              "       'Vila Libanesa', 'Vila Liviero', 'Vila Londrina', 'Vila Lúcia',\n",
              "       'Vila Macedópolis', 'Vila Madalena', 'Vila Mafra', 'Vila Marari',\n",
              "       'Vila Maria Alta', 'Vila Maria Baixa', 'Vila Mariana',\n",
              "       'Vila Marieta', 'Vila Mascote', 'Vila Matilde', 'Vila Mazzei',\n",
              "       'Vila Medeiros', 'Vila Minerva', 'Vila Mira', 'Vila Moinho Velho',\n",
              "       'Vila Monte Alegre', 'Vila Monumento', 'Vila Moraes',\n",
              "       'Vila Moreira', 'Vila Morse', 'Vila Morumbi', 'Vila Nair',\n",
              "       'Vila Nancy', 'Vila Natália', 'Vila Neila', 'Vila Nelson',\n",
              "       'Vila Nhocune', 'Vila Nilo', 'Vila Nivi', 'Vila Noca', 'Vila Nova',\n",
              "       'Vila Nova Alba', 'Vila Nova Cachoeirinha', 'Vila Nova Caledonia',\n",
              "       'Vila Nova Caledônia', 'Vila Nova Conceição', 'Vila Nova Curuçá',\n",
              "       'Vila Nova Manchester', 'Vila Nova Mazzei', 'Vila Nova Pauliceia',\n",
              "       'Vila Nova Savoia', 'Vila Olinda', 'Vila Olímpia', 'Vila Oratório',\n",
              "       'Vila Paiva', 'Vila Palmeiras', 'Vila Paranaguá',\n",
              "       'Vila Parque Jabaquara', 'Vila Paulicéia', 'Vila Paulista',\n",
              "       'Vila Paulo Silas', 'Vila Pedra Branca', 'Vila Pedroso',\n",
              "       'Vila Pereira Barreto', 'Vila Perus', 'Vila Piauí', 'Vila Picinin',\n",
              "       'Vila Pirajussara', 'Vila Pirituba', 'Vila Pita', 'Vila Polopoli',\n",
              "       'Vila Pompéia', 'Vila Ponte Rasa', 'Vila Prado', 'Vila Primavera',\n",
              "       'Vila Progredior', 'Vila Prudente', 'Vila Regente Feijó',\n",
              "       'Vila Reis', 'Vila Represa', 'Vila Rica', 'Vila Rio Branco',\n",
              "       'Vila Romana', 'Vila Romano', 'Vila Romero', 'Vila Rosa',\n",
              "       'Vila Rosaria', 'Vila Roseira II', 'Vila Rui Barbosa', 'Vila Ré',\n",
              "       'Vila Sabrina', 'Vila Salete', 'Vila Santa Catarina',\n",
              "       'Vila Santa Clara', 'Vila Santa Edwiges', 'Vila Santa Maria',\n",
              "       'Vila Santa Teresa (Zona Leste)', 'Vila Santa Teresa (Zona Sul)',\n",
              "       'Vila Santa Terezinha (Zona Norte)', 'Vila Santa Virginia',\n",
              "       'Vila Santana', 'Vila Santo Antônio', 'Vila Santo Estevão',\n",
              "       'Vila Santo Estéfano', 'Vila Santos', 'Vila Sao Paulo',\n",
              "       'Vila Simone', 'Vila Sofia', 'Vila Sonia', 'Vila Suzana',\n",
              "       'Vila São Domingos', 'Vila São Francisco',\n",
              "       'Vila São Francisco (Zona Sul)', 'Vila São Geraldo',\n",
              "       'Vila São José', 'Vila São José (Ipiranga)', 'Vila São Paulo',\n",
              "       'Vila São Pedro', 'Vila São Silvestre', 'Vila São Vicente',\n",
              "       'Vila Sílvia', 'Vila Sônia', 'Vila Talarico', 'Vila Tiradentes',\n",
              "       'Vila Tolstoi', 'Vila Tramontano', 'Vila Uberabinha',\n",
              "       'Vila Universitária', 'Vila União(Zona Norte)', 'Vila Vasconcelos',\n",
              "       'Vila Vera', 'Vila Virginia', 'Vila Vitório Mazzei', 'Vila Zelina',\n",
              "       'Vila da Saúde', 'Vila das Belezas', 'Vila das Mercês',\n",
              "       'Vila do Bosque', 'Vila do Castelo', 'Vila do Encontro',\n",
              "       'Vila dos Remédios', 'Vila Água Funda', 'Água Branca', 'Água Fria',\n",
              "       'Água Funda', 'Água Rasa'], dtype=object)"
            ]
          },
          "metadata": {},
          "execution_count": 318
        }
      ]
    },
    {
      "cell_type": "code",
      "source": [
        "a = dados[\"Bairro\"].str.contains(\"Agua\")  # Nada de água sem acento\n",
        "dados[\"Bairro\"][a]"
      ],
      "metadata": {
        "colab": {
          "base_uri": "https://localhost:8080/"
        },
        "id": "E0eEDLgNgR5t",
        "outputId": "8053c5ac-d27b-4286-b6a0-86f7508d470a"
      },
      "execution_count": null,
      "outputs": [
        {
          "output_type": "execute_result",
          "data": {
            "text/plain": [
              "Series([], Name: Bairro, dtype: object)"
            ]
          },
          "metadata": {},
          "execution_count": 319
        }
      ]
    },
    {
      "cell_type": "code",
      "source": [
        "b = dados[\"Bairro\"].str.contains(\"Tremem\")  # Tremembé tem entradas com nomes diferentes\n",
        "dados[\"Bairro\"][b]"
      ],
      "metadata": {
        "colab": {
          "base_uri": "https://localhost:8080/"
        },
        "id": "EFVitLici9NH",
        "outputId": "02f3fe9d-d70a-4e8c-83ce-4cfb63558582"
      },
      "execution_count": null,
      "outputs": [
        {
          "output_type": "execute_result",
          "data": {
            "text/plain": [
              "51             Tremembé\n",
              "310            Tremembé\n",
              "1427    Jardim Tremembé\n",
              "1783           Tremembé\n",
              "5315           Tremembé\n",
              "6022           Tremembé\n",
              "6087           Tremembé\n",
              "6173           Tremembé\n",
              "7756           Tremembé\n",
              "8105           Tremembé\n",
              "8292           Tremembé\n",
              "8453    Jardim Tremembe\n",
              "8592           Tremembé\n",
              "8845           Tremembé\n",
              "8969           Tremembé\n",
              "9066           Tremembé\n",
              "9097           Tremembé\n",
              "9200           Tremembé\n",
              "9568           Tremembé\n",
              "9651    Jardim Tremembe\n",
              "9695           Tremembé\n",
              "9731           Tremembé\n",
              "Name: Bairro, dtype: object"
            ]
          },
          "metadata": {},
          "execution_count": 320
        }
      ]
    },
    {
      "cell_type": "code",
      "source": [
        "c = dados[\"Bairro\"].str.contains(\"Jabaquara\")  # Jabaquara também tem entradas com nomes diferentes\n",
        "dados[\"Bairro\"][c]"
      ],
      "metadata": {
        "colab": {
          "base_uri": "https://localhost:8080/"
        },
        "id": "IcP5pMNHnR6I",
        "outputId": "5ff0f671-e74f-4994-f8d0-b0c5e95c1a59"
      },
      "execution_count": null,
      "outputs": [
        {
          "output_type": "execute_result",
          "data": {
            "text/plain": [
              "1070    Parque Jabaquara\n",
              "1105           Jabaquara\n",
              "1285    Parque Jabaquara\n",
              "2322    Parque Jabaquara\n",
              "2944    Parque Jabaquara\n",
              "              ...       \n",
              "9401           Jabaquara\n",
              "9505           Jabaquara\n",
              "9647           Jabaquara\n",
              "9706    Jardim Jabaquara\n",
              "9742    Jardim Jabaquara\n",
              "Name: Bairro, Length: 62, dtype: object"
            ]
          },
          "metadata": {},
          "execution_count": 321
        }
      ]
    },
    {
      "cell_type": "code",
      "source": [
        "d = dados[\"Bairro\"].str.contains(\"Vera\")  # E Jardim Vera Cruz também tem entradas com nomes diferentes\n",
        "dados[\"Bairro\"][d]"
      ],
      "metadata": {
        "colab": {
          "base_uri": "https://localhost:8080/"
        },
        "id": "lfkbpyFfrcKU",
        "outputId": "4f07ae63-1dcf-4195-ab7b-8767058a2f14"
      },
      "execution_count": null,
      "outputs": [
        {
          "output_type": "execute_result",
          "data": {
            "text/plain": [
              "2025                       Vila Vera\n",
              "2593                Jardim Vera Cruz\n",
              "4230                Jardim Vera Cruz\n",
              "4506                Jardim Vera Cruz\n",
              "4558                Jardim Vera Cruz\n",
              "5432                Jardim Vera Cruz\n",
              "5874    Jardim Vera Cruz(Zona Leste)\n",
              "6398    Jardim Vera Cruz(Zona Leste)\n",
              "7262                       Vila Vera\n",
              "7341                       Vila Vera\n",
              "7528                       Vila Vera\n",
              "7556                       Vila Vera\n",
              "8004                       Vila Vera\n",
              "8222                       Vila Vera\n",
              "8628                       Vila Vera\n",
              "8919                       Vila Vera\n",
              "9011                Jardim Vera Cruz\n",
              "9777                Jardim Vera Cruz\n",
              "9865                Jardim Vera Cruz\n",
              "Name: Bairro, dtype: object"
            ]
          },
          "metadata": {},
          "execution_count": 322
        }
      ]
    },
    {
      "cell_type": "markdown",
      "source": [
        "# Exploração dos dados"
      ],
      "metadata": {
        "id": "bdQqczbetnpA"
      }
    },
    {
      "cell_type": "code",
      "source": [
        "dados.info()"
      ],
      "metadata": {
        "colab": {
          "base_uri": "https://localhost:8080/"
        },
        "id": "Hh0NZ3yHuZ5R",
        "outputId": "d8863589-b714-45ed-8f5e-bbea268e5d34"
      },
      "execution_count": null,
      "outputs": [
        {
          "output_type": "stream",
          "name": "stdout",
          "text": [
            "<class 'pandas.core.frame.DataFrame'>\n",
            "RangeIndex: 10008 entries, 0 to 10007\n",
            "Data columns (total 9 columns):\n",
            " #   Column      Non-Null Count  Dtype  \n",
            "---  ------      --------------  -----  \n",
            " 0   Rua         6574 non-null   object \n",
            " 1   Bairro      10008 non-null  object \n",
            " 2   Cidade      10008 non-null  object \n",
            " 3   Metragem    10008 non-null  int64  \n",
            " 4   Quartos     10008 non-null  int64  \n",
            " 5   Banheiros   10008 non-null  int64  \n",
            " 6   Vagas       10008 non-null  int64  \n",
            " 7   Valor       10008 non-null  float64\n",
            " 8   Modalidade  10008 non-null  object \n",
            "dtypes: float64(1), int64(4), object(4)\n",
            "memory usage: 703.8+ KB\n"
          ]
        }
      ]
    },
    {
      "cell_type": "markdown",
      "source": [
        "### Médias, medianas, mínimos e máximos"
      ],
      "metadata": {
        "id": "Sf455wt5yPkZ"
      }
    },
    {
      "cell_type": "code",
      "source": [
        "dados.describe().T  # describe() trás as estatístcas das colunas numéricas, apenas"
      ],
      "metadata": {
        "colab": {
          "base_uri": "https://localhost:8080/"
        },
        "id": "AxNPYEF4uTmY",
        "outputId": "6e5d7506-90e0-462b-80b9-ba76a53a6338"
      },
      "execution_count": null,
      "outputs": [
        {
          "output_type": "execute_result",
          "data": {
            "text/plain": [
              "             count       mean        std     min       25%        50%  \\\n",
              "Metragem  10008.00     442.30    7515.38   10.00    173.00     290.00   \n",
              "Quartos   10008.00       3.48       1.06    1.00      3.00       3.00   \n",
              "Banheiros 10008.00       3.88       1.99    1.00      2.00       4.00   \n",
              "Vagas     10008.00       4.10       2.82    1.00      2.00       4.00   \n",
              "Valor     10008.00 2794169.56 3866248.54 1650.00 750000.00 1600000.00   \n",
              "\n",
              "                 75%         max  \n",
              "Metragem      460.25   750000.00  \n",
              "Quartos         4.00       16.00  \n",
              "Banheiros       5.00       40.00  \n",
              "Vagas           5.00       50.00  \n",
              "Valor     3350000.00 65000000.00  "
            ],
            "text/html": [
              "\n",
              "  <div id=\"df-6e169940-525b-43fd-b3ba-aaf199614520\">\n",
              "    <div class=\"colab-df-container\">\n",
              "      <div>\n",
              "<style scoped>\n",
              "    .dataframe tbody tr th:only-of-type {\n",
              "        vertical-align: middle;\n",
              "    }\n",
              "\n",
              "    .dataframe tbody tr th {\n",
              "        vertical-align: top;\n",
              "    }\n",
              "\n",
              "    .dataframe thead th {\n",
              "        text-align: right;\n",
              "    }\n",
              "</style>\n",
              "<table border=\"1\" class=\"dataframe\">\n",
              "  <thead>\n",
              "    <tr style=\"text-align: right;\">\n",
              "      <th></th>\n",
              "      <th>count</th>\n",
              "      <th>mean</th>\n",
              "      <th>std</th>\n",
              "      <th>min</th>\n",
              "      <th>25%</th>\n",
              "      <th>50%</th>\n",
              "      <th>75%</th>\n",
              "      <th>max</th>\n",
              "    </tr>\n",
              "  </thead>\n",
              "  <tbody>\n",
              "    <tr>\n",
              "      <th>Metragem</th>\n",
              "      <td>10008.00</td>\n",
              "      <td>442.30</td>\n",
              "      <td>7515.38</td>\n",
              "      <td>10.00</td>\n",
              "      <td>173.00</td>\n",
              "      <td>290.00</td>\n",
              "      <td>460.25</td>\n",
              "      <td>750000.00</td>\n",
              "    </tr>\n",
              "    <tr>\n",
              "      <th>Quartos</th>\n",
              "      <td>10008.00</td>\n",
              "      <td>3.48</td>\n",
              "      <td>1.06</td>\n",
              "      <td>1.00</td>\n",
              "      <td>3.00</td>\n",
              "      <td>3.00</td>\n",
              "      <td>4.00</td>\n",
              "      <td>16.00</td>\n",
              "    </tr>\n",
              "    <tr>\n",
              "      <th>Banheiros</th>\n",
              "      <td>10008.00</td>\n",
              "      <td>3.88</td>\n",
              "      <td>1.99</td>\n",
              "      <td>1.00</td>\n",
              "      <td>2.00</td>\n",
              "      <td>4.00</td>\n",
              "      <td>5.00</td>\n",
              "      <td>40.00</td>\n",
              "    </tr>\n",
              "    <tr>\n",
              "      <th>Vagas</th>\n",
              "      <td>10008.00</td>\n",
              "      <td>4.10</td>\n",
              "      <td>2.82</td>\n",
              "      <td>1.00</td>\n",
              "      <td>2.00</td>\n",
              "      <td>4.00</td>\n",
              "      <td>5.00</td>\n",
              "      <td>50.00</td>\n",
              "    </tr>\n",
              "    <tr>\n",
              "      <th>Valor</th>\n",
              "      <td>10008.00</td>\n",
              "      <td>2794169.56</td>\n",
              "      <td>3866248.54</td>\n",
              "      <td>1650.00</td>\n",
              "      <td>750000.00</td>\n",
              "      <td>1600000.00</td>\n",
              "      <td>3350000.00</td>\n",
              "      <td>65000000.00</td>\n",
              "    </tr>\n",
              "  </tbody>\n",
              "</table>\n",
              "</div>\n",
              "      <button class=\"colab-df-convert\" onclick=\"convertToInteractive('df-6e169940-525b-43fd-b3ba-aaf199614520')\"\n",
              "              title=\"Convert this dataframe to an interactive table.\"\n",
              "              style=\"display:none;\">\n",
              "        \n",
              "  <svg xmlns=\"http://www.w3.org/2000/svg\" height=\"24px\"viewBox=\"0 0 24 24\"\n",
              "       width=\"24px\">\n",
              "    <path d=\"M0 0h24v24H0V0z\" fill=\"none\"/>\n",
              "    <path d=\"M18.56 5.44l.94 2.06.94-2.06 2.06-.94-2.06-.94-.94-2.06-.94 2.06-2.06.94zm-11 1L8.5 8.5l.94-2.06 2.06-.94-2.06-.94L8.5 2.5l-.94 2.06-2.06.94zm10 10l.94 2.06.94-2.06 2.06-.94-2.06-.94-.94-2.06-.94 2.06-2.06.94z\"/><path d=\"M17.41 7.96l-1.37-1.37c-.4-.4-.92-.59-1.43-.59-.52 0-1.04.2-1.43.59L10.3 9.45l-7.72 7.72c-.78.78-.78 2.05 0 2.83L4 21.41c.39.39.9.59 1.41.59.51 0 1.02-.2 1.41-.59l7.78-7.78 2.81-2.81c.8-.78.8-2.07 0-2.86zM5.41 20L4 18.59l7.72-7.72 1.47 1.35L5.41 20z\"/>\n",
              "  </svg>\n",
              "      </button>\n",
              "      \n",
              "  <style>\n",
              "    .colab-df-container {\n",
              "      display:flex;\n",
              "      flex-wrap:wrap;\n",
              "      gap: 12px;\n",
              "    }\n",
              "\n",
              "    .colab-df-convert {\n",
              "      background-color: #E8F0FE;\n",
              "      border: none;\n",
              "      border-radius: 50%;\n",
              "      cursor: pointer;\n",
              "      display: none;\n",
              "      fill: #1967D2;\n",
              "      height: 32px;\n",
              "      padding: 0 0 0 0;\n",
              "      width: 32px;\n",
              "    }\n",
              "\n",
              "    .colab-df-convert:hover {\n",
              "      background-color: #E2EBFA;\n",
              "      box-shadow: 0px 1px 2px rgba(60, 64, 67, 0.3), 0px 1px 3px 1px rgba(60, 64, 67, 0.15);\n",
              "      fill: #174EA6;\n",
              "    }\n",
              "\n",
              "    [theme=dark] .colab-df-convert {\n",
              "      background-color: #3B4455;\n",
              "      fill: #D2E3FC;\n",
              "    }\n",
              "\n",
              "    [theme=dark] .colab-df-convert:hover {\n",
              "      background-color: #434B5C;\n",
              "      box-shadow: 0px 1px 3px 1px rgba(0, 0, 0, 0.15);\n",
              "      filter: drop-shadow(0px 1px 2px rgba(0, 0, 0, 0.3));\n",
              "      fill: #FFFFFF;\n",
              "    }\n",
              "  </style>\n",
              "\n",
              "      <script>\n",
              "        const buttonEl =\n",
              "          document.querySelector('#df-6e169940-525b-43fd-b3ba-aaf199614520 button.colab-df-convert');\n",
              "        buttonEl.style.display =\n",
              "          google.colab.kernel.accessAllowed ? 'block' : 'none';\n",
              "\n",
              "        async function convertToInteractive(key) {\n",
              "          const element = document.querySelector('#df-6e169940-525b-43fd-b3ba-aaf199614520');\n",
              "          const dataTable =\n",
              "            await google.colab.kernel.invokeFunction('convertToInteractive',\n",
              "                                                     [key], {});\n",
              "          if (!dataTable) return;\n",
              "\n",
              "          const docLinkHtml = 'Like what you see? Visit the ' +\n",
              "            '<a target=\"_blank\" href=https://colab.research.google.com/notebooks/data_table.ipynb>data table notebook</a>'\n",
              "            + ' to learn more about interactive tables.';\n",
              "          element.innerHTML = '';\n",
              "          dataTable['output_type'] = 'display_data';\n",
              "          await google.colab.output.renderOutput(dataTable, element);\n",
              "          const docLink = document.createElement('div');\n",
              "          docLink.innerHTML = docLinkHtml;\n",
              "          element.appendChild(docLink);\n",
              "        }\n",
              "      </script>\n",
              "    </div>\n",
              "  </div>\n",
              "  "
            ]
          },
          "metadata": {},
          "execution_count": 324
        }
      ]
    },
    {
      "cell_type": "markdown",
      "source": [
        "Para mais, veja o Desafio 4, Aula 1."
      ],
      "metadata": {
        "id": "kynKlqp4M4CF"
      }
    },
    {
      "cell_type": "markdown",
      "source": [
        "### Frequências, tops e resultados únicos"
      ],
      "metadata": {
        "id": "cCMDMcQMyJqT"
      }
    },
    {
      "cell_type": "code",
      "source": [
        "dados[[\"Rua\", \"Bairro\", \"Cidade\"]].describe().T  # podemos selecionar apenas as series com dados não numéricos para algumas estatísticas"
      ],
      "metadata": {
        "colab": {
          "base_uri": "https://localhost:8080/"
        },
        "id": "bR--vSFmvlu5",
        "outputId": "433c9ecf-29d3-4efc-f19b-8281eab16708"
      },
      "execution_count": null,
      "outputs": [
        {
          "output_type": "execute_result",
          "data": {
            "text/plain": [
              "        count unique                top   freq\n",
              "Rua      6574   3130  Rua Alberto Faria     24\n",
              "Bairro  10008    702  Alto de Pinheiros    409\n",
              "Cidade  10008      1          São Paulo  10008"
            ],
            "text/html": [
              "\n",
              "  <div id=\"df-6bc88057-6337-4f46-be72-ed37ae9d2272\">\n",
              "    <div class=\"colab-df-container\">\n",
              "      <div>\n",
              "<style scoped>\n",
              "    .dataframe tbody tr th:only-of-type {\n",
              "        vertical-align: middle;\n",
              "    }\n",
              "\n",
              "    .dataframe tbody tr th {\n",
              "        vertical-align: top;\n",
              "    }\n",
              "\n",
              "    .dataframe thead th {\n",
              "        text-align: right;\n",
              "    }\n",
              "</style>\n",
              "<table border=\"1\" class=\"dataframe\">\n",
              "  <thead>\n",
              "    <tr style=\"text-align: right;\">\n",
              "      <th></th>\n",
              "      <th>count</th>\n",
              "      <th>unique</th>\n",
              "      <th>top</th>\n",
              "      <th>freq</th>\n",
              "    </tr>\n",
              "  </thead>\n",
              "  <tbody>\n",
              "    <tr>\n",
              "      <th>Rua</th>\n",
              "      <td>6574</td>\n",
              "      <td>3130</td>\n",
              "      <td>Rua Alberto Faria</td>\n",
              "      <td>24</td>\n",
              "    </tr>\n",
              "    <tr>\n",
              "      <th>Bairro</th>\n",
              "      <td>10008</td>\n",
              "      <td>702</td>\n",
              "      <td>Alto de Pinheiros</td>\n",
              "      <td>409</td>\n",
              "    </tr>\n",
              "    <tr>\n",
              "      <th>Cidade</th>\n",
              "      <td>10008</td>\n",
              "      <td>1</td>\n",
              "      <td>São Paulo</td>\n",
              "      <td>10008</td>\n",
              "    </tr>\n",
              "  </tbody>\n",
              "</table>\n",
              "</div>\n",
              "      <button class=\"colab-df-convert\" onclick=\"convertToInteractive('df-6bc88057-6337-4f46-be72-ed37ae9d2272')\"\n",
              "              title=\"Convert this dataframe to an interactive table.\"\n",
              "              style=\"display:none;\">\n",
              "        \n",
              "  <svg xmlns=\"http://www.w3.org/2000/svg\" height=\"24px\"viewBox=\"0 0 24 24\"\n",
              "       width=\"24px\">\n",
              "    <path d=\"M0 0h24v24H0V0z\" fill=\"none\"/>\n",
              "    <path d=\"M18.56 5.44l.94 2.06.94-2.06 2.06-.94-2.06-.94-.94-2.06-.94 2.06-2.06.94zm-11 1L8.5 8.5l.94-2.06 2.06-.94-2.06-.94L8.5 2.5l-.94 2.06-2.06.94zm10 10l.94 2.06.94-2.06 2.06-.94-2.06-.94-.94-2.06-.94 2.06-2.06.94z\"/><path d=\"M17.41 7.96l-1.37-1.37c-.4-.4-.92-.59-1.43-.59-.52 0-1.04.2-1.43.59L10.3 9.45l-7.72 7.72c-.78.78-.78 2.05 0 2.83L4 21.41c.39.39.9.59 1.41.59.51 0 1.02-.2 1.41-.59l7.78-7.78 2.81-2.81c.8-.78.8-2.07 0-2.86zM5.41 20L4 18.59l7.72-7.72 1.47 1.35L5.41 20z\"/>\n",
              "  </svg>\n",
              "      </button>\n",
              "      \n",
              "  <style>\n",
              "    .colab-df-container {\n",
              "      display:flex;\n",
              "      flex-wrap:wrap;\n",
              "      gap: 12px;\n",
              "    }\n",
              "\n",
              "    .colab-df-convert {\n",
              "      background-color: #E8F0FE;\n",
              "      border: none;\n",
              "      border-radius: 50%;\n",
              "      cursor: pointer;\n",
              "      display: none;\n",
              "      fill: #1967D2;\n",
              "      height: 32px;\n",
              "      padding: 0 0 0 0;\n",
              "      width: 32px;\n",
              "    }\n",
              "\n",
              "    .colab-df-convert:hover {\n",
              "      background-color: #E2EBFA;\n",
              "      box-shadow: 0px 1px 2px rgba(60, 64, 67, 0.3), 0px 1px 3px 1px rgba(60, 64, 67, 0.15);\n",
              "      fill: #174EA6;\n",
              "    }\n",
              "\n",
              "    [theme=dark] .colab-df-convert {\n",
              "      background-color: #3B4455;\n",
              "      fill: #D2E3FC;\n",
              "    }\n",
              "\n",
              "    [theme=dark] .colab-df-convert:hover {\n",
              "      background-color: #434B5C;\n",
              "      box-shadow: 0px 1px 3px 1px rgba(0, 0, 0, 0.15);\n",
              "      filter: drop-shadow(0px 1px 2px rgba(0, 0, 0, 0.3));\n",
              "      fill: #FFFFFF;\n",
              "    }\n",
              "  </style>\n",
              "\n",
              "      <script>\n",
              "        const buttonEl =\n",
              "          document.querySelector('#df-6bc88057-6337-4f46-be72-ed37ae9d2272 button.colab-df-convert');\n",
              "        buttonEl.style.display =\n",
              "          google.colab.kernel.accessAllowed ? 'block' : 'none';\n",
              "\n",
              "        async function convertToInteractive(key) {\n",
              "          const element = document.querySelector('#df-6bc88057-6337-4f46-be72-ed37ae9d2272');\n",
              "          const dataTable =\n",
              "            await google.colab.kernel.invokeFunction('convertToInteractive',\n",
              "                                                     [key], {});\n",
              "          if (!dataTable) return;\n",
              "\n",
              "          const docLinkHtml = 'Like what you see? Visit the ' +\n",
              "            '<a target=\"_blank\" href=https://colab.research.google.com/notebooks/data_table.ipynb>data table notebook</a>'\n",
              "            + ' to learn more about interactive tables.';\n",
              "          element.innerHTML = '';\n",
              "          dataTable['output_type'] = 'display_data';\n",
              "          await google.colab.output.renderOutput(dataTable, element);\n",
              "          const docLink = document.createElement('div');\n",
              "          docLink.innerHTML = docLinkHtml;\n",
              "          element.appendChild(docLink);\n",
              "        }\n",
              "      </script>\n",
              "    </div>\n",
              "  </div>\n",
              "  "
            ]
          },
          "metadata": {},
          "execution_count": 325
        }
      ]
    },
    {
      "cell_type": "code",
      "source": [
        "bairros_top = dados[\"Bairro\"].value_counts() # explorando mais a frequência dos bairros\n",
        "bairros_top"
      ],
      "metadata": {
        "colab": {
          "base_uri": "https://localhost:8080/"
        },
        "id": "HEX9iDCyxrHQ",
        "outputId": "d2e5ce2f-880e-47ed-b449-11e10ad818d9"
      },
      "execution_count": null,
      "outputs": [
        {
          "output_type": "execute_result",
          "data": {
            "text/plain": [
              "Alto de Pinheiros                   409\n",
              "Jardim Guedala                      403\n",
              "Jardim Paulista                     309\n",
              "Brooklin Paulista                   247\n",
              "Jardim Europa                       240\n",
              "                                   ... \n",
              "Parque Santa Cecília                  1\n",
              "Parque Maria Fernandes                1\n",
              "Vila Nelson                           1\n",
              "Jardim Rizzo                          1\n",
              "Conjunto Residencial Vista Verde      1\n",
              "Name: Bairro, Length: 702, dtype: int64"
            ]
          },
          "metadata": {},
          "execution_count": 326
        }
      ]
    },
    {
      "cell_type": "code",
      "source": [
        "bairros_top[:10].plot.bar()  # usando um slice para selecionar apenas os 10 primeiros em frequência e criar um gráfico"
      ],
      "metadata": {
        "colab": {
          "base_uri": "https://localhost:8080/"
        },
        "id": "zQVjGP2Vx_zS",
        "outputId": "8184b5b9-3000-4361-dd23-ca52b2c82bf5"
      },
      "execution_count": null,
      "outputs": [
        {
          "output_type": "execute_result",
          "data": {
            "text/plain": [
              "<AxesSubplot:>"
            ]
          },
          "metadata": {},
          "execution_count": 327
        },
        {
          "output_type": "display_data",
          "data": {
            "text/plain": [
              "<Figure size 432x288 with 1 Axes>"
            ],
            "image/png": "[encoded data removed]"
          },
          "metadata": {}
        }
      ]
    },
    {
      "cell_type": "markdown",
      "source": [
        "# Desafios"
      ],
      "metadata": {
        "id": "CrEXtS7Os0yp"
      }
    },
    {
      "cell_type": "markdown",
      "source": [
        "## Aula 1"
      ],
      "metadata": {
        "id": "n1oMaCC_s5eo"
      }
    },
    {
      "cell_type": "markdown",
      "source": [
        "### Desafio 1\n",
        "Realizar a média da metragem para cada um dos bairros (Paulo)"
      ],
      "metadata": {
        "id": "hh_Nr7NmtBRg"
      }
    },
    {
      "cell_type": "code",
      "source": [
        "dados.groupby(\"Bairro\")[\"Metragem\"].mean()"
      ],
      "metadata": {
        "colab": {
          "base_uri": "https://localhost:8080/"
        },
        "id": "S8-BZQEz9tHC",
        "outputId": "98b7e86e-626a-4760-9420-6d9e8bb4f135"
      },
      "execution_count": null,
      "outputs": [
        {
          "output_type": "execute_result",
          "data": {
            "text/plain": [
              "Bairro\n",
              "Aclimação           253.06\n",
              "Alto da Boa Vista   418.88\n",
              "Alto da Lapa        294.34\n",
              "Alto da Mooca       270.05\n",
              "Alto de Pinheiros   433.44\n",
              "                     ...  \n",
              "Vila Água Funda     152.20\n",
              "Água Branca         191.00\n",
              "Água Fria           165.42\n",
              "Água Funda          139.00\n",
              "Água Rasa           340.25\n",
              "Name: Metragem, Length: 702, dtype: float64"
            ]
          },
          "metadata": {},
          "execution_count": 328
        }
      ]
    },
    {
      "cell_type": "markdown",
      "source": [
        "### Desafio 2\n",
        "Duas formas de selecionar os dados por bairro (consultar os métodos na documentação do pandas) (Thiago)"
      ],
      "metadata": {
        "id": "X7TqAt-ctD3w"
      }
    },
    {
      "cell_type": "code",
      "source": [
        "bairro_selecionado = \"Liberdade\""
      ],
      "metadata": {
        "id": "FeVFcmuyLyqM"
      },
      "execution_count": null,
      "outputs": []
    },
    {
      "cell_type": "code",
      "source": [
        "dados.query(\"Bairro == @bairro_selecionado\")  # usando query, busca todos as entradas da coluna Bairro que contem a variável "
      ],
      "metadata": {
        "colab": {
          "base_uri": "https://localhost:8080/",
          "height": 300
        },
        "id": "c2MaUMWDB4vE",
        "outputId": "03c89c9d-2bc9-4e3d-a476-42e1ac7fd566"
      },
      "execution_count": null,
      "outputs": [
        {
          "output_type": "execute_result",
          "data": {
            "text/plain": [
              "                                 Rua     Bairro     Cidade  Metragem  Quartos  \\\n",
              "4025             Rua Teixeira Mendes  Liberdade  São Paulo       275        3   \n",
              "4882  Rua Senador Felício dos Santos  Liberdade  São Paulo       600        3   \n",
              "5039                             NaN  Liberdade  São Paulo        90        3   \n",
              "5156                             NaN  Liberdade  São Paulo        95        3   \n",
              "5606                             NaN  Liberdade  São Paulo        95        3   \n",
              "5845             Rua Teixeira Mendes  Liberdade  São Paulo       180        4   \n",
              "6367             Rua Teixeira Mendes  Liberdade  São Paulo       185        4   \n",
              "7284                             NaN  Liberdade  São Paulo       150        3   \n",
              "\n",
              "      Banheiros  Vagas      Valor Modalidade  \n",
              "4025          4      2  900000.00      Venda  \n",
              "4882          1      4 2000000.00      Venda  \n",
              "5039          2      1  600000.00      Venda  \n",
              "5156          2      1  600000.00      Venda  \n",
              "5606          2      1  600000.00      Venda  \n",
              "5845          2      2  750000.00      Venda  \n",
              "6367          2      2  750000.00      Venda  \n",
              "7284          2      2 1040000.00      Venda  "
            ],
            "text/html": [
              "\n",
              "  <div id=\"df-9bcf7810-009d-49aa-9429-6f57391ecb80\">\n",
              "    <div class=\"colab-df-container\">\n",
              "      <div>\n",
              "<style scoped>\n",
              "    .dataframe tbody tr th:only-of-type {\n",
              "        vertical-align: middle;\n",
              "    }\n",
              "\n",
              "    .dataframe tbody tr th {\n",
              "        vertical-align: top;\n",
              "    }\n",
              "\n",
              "    .dataframe thead th {\n",
              "        text-align: right;\n",
              "    }\n",
              "</style>\n",
              "<table border=\"1\" class=\"dataframe\">\n",
              "  <thead>\n",
              "    <tr style=\"text-align: right;\">\n",
              "      <th></th>\n",
              "      <th>Rua</th>\n",
              "      <th>Bairro</th>\n",
              "      <th>Cidade</th>\n",
              "      <th>Metragem</th>\n",
              "      <th>Quartos</th>\n",
              "      <th>Banheiros</th>\n",
              "      <th>Vagas</th>\n",
              "      <th>Valor</th>\n",
              "      <th>Modalidade</th>\n",
              "    </tr>\n",
              "  </thead>\n",
              "  <tbody>\n",
              "    <tr>\n",
              "      <th>4025</th>\n",
              "      <td>Rua Teixeira Mendes</td>\n",
              "      <td>Liberdade</td>\n",
              "      <td>São Paulo</td>\n",
              "      <td>275</td>\n",
              "      <td>3</td>\n",
              "      <td>4</td>\n",
              "      <td>2</td>\n",
              "      <td>900000.00</td>\n",
              "      <td>Venda</td>\n",
              "    </tr>\n",
              "    <tr>\n",
              "      <th>4882</th>\n",
              "      <td>Rua Senador Felício dos Santos</td>\n",
              "      <td>Liberdade</td>\n",
              "      <td>São Paulo</td>\n",
              "      <td>600</td>\n",
              "      <td>3</td>\n",
              "      <td>1</td>\n",
              "      <td>4</td>\n",
              "      <td>2000000.00</td>\n",
              "      <td>Venda</td>\n",
              "    </tr>\n",
              "    <tr>\n",
              "      <th>5039</th>\n",
              "      <td>NaN</td>\n",
              "      <td>Liberdade</td>\n",
              "      <td>São Paulo</td>\n",
              "      <td>90</td>\n",
              "      <td>3</td>\n",
              "      <td>2</td>\n",
              "      <td>1</td>\n",
              "      <td>600000.00</td>\n",
              "      <td>Venda</td>\n",
              "    </tr>\n",
              "    <tr>\n",
              "      <th>5156</th>\n",
              "      <td>NaN</td>\n",
              "      <td>Liberdade</td>\n",
              "      <td>São Paulo</td>\n",
              "      <td>95</td>\n",
              "      <td>3</td>\n",
              "      <td>2</td>\n",
              "      <td>1</td>\n",
              "      <td>600000.00</td>\n",
              "      <td>Venda</td>\n",
              "    </tr>\n",
              "    <tr>\n",
              "      <th>5606</th>\n",
              "      <td>NaN</td>\n",
              "      <td>Liberdade</td>\n",
              "      <td>São Paulo</td>\n",
              "      <td>95</td>\n",
              "      <td>3</td>\n",
              "      <td>2</td>\n",
              "      <td>1</td>\n",
              "      <td>600000.00</td>\n",
              "      <td>Venda</td>\n",
              "    </tr>\n",
              "    <tr>\n",
              "      <th>5845</th>\n",
              "      <td>Rua Teixeira Mendes</td>\n",
              "      <td>Liberdade</td>\n",
              "      <td>São Paulo</td>\n",
              "      <td>180</td>\n",
              "      <td>4</td>\n",
              "      <td>2</td>\n",
              "      <td>2</td>\n",
              "      <td>750000.00</td>\n",
              "      <td>Venda</td>\n",
              "    </tr>\n",
              "    <tr>\n",
              "      <th>6367</th>\n",
              "      <td>Rua Teixeira Mendes</td>\n",
              "      <td>Liberdade</td>\n",
              "      <td>São Paulo</td>\n",
              "      <td>185</td>\n",
              "      <td>4</td>\n",
              "      <td>2</td>\n",
              "      <td>2</td>\n",
              "      <td>750000.00</td>\n",
              "      <td>Venda</td>\n",
              "    </tr>\n",
              "    <tr>\n",
              "      <th>7284</th>\n",
              "      <td>NaN</td>\n",
              "      <td>Liberdade</td>\n",
              "      <td>São Paulo</td>\n",
              "      <td>150</td>\n",
              "      <td>3</td>\n",
              "      <td>2</td>\n",
              "      <td>2</td>\n",
              "      <td>1040000.00</td>\n",
              "      <td>Venda</td>\n",
              "    </tr>\n",
              "  </tbody>\n",
              "</table>\n",
              "</div>\n",
              "      <button class=\"colab-df-convert\" onclick=\"convertToInteractive('df-9bcf7810-009d-49aa-9429-6f57391ecb80')\"\n",
              "              title=\"Convert this dataframe to an interactive table.\"\n",
              "              style=\"display:none;\">\n",
              "        \n",
              "  <svg xmlns=\"http://www.w3.org/2000/svg\" height=\"24px\"viewBox=\"0 0 24 24\"\n",
              "       width=\"24px\">\n",
              "    <path d=\"M0 0h24v24H0V0z\" fill=\"none\"/>\n",
              "    <path d=\"M18.56 5.44l.94 2.06.94-2.06 2.06-.94-2.06-.94-.94-2.06-.94 2.06-2.06.94zm-11 1L8.5 8.5l.94-2.06 2.06-.94-2.06-.94L8.5 2.5l-.94 2.06-2.06.94zm10 10l.94 2.06.94-2.06 2.06-.94-2.06-.94-.94-2.06-.94 2.06-2.06.94z\"/><path d=\"M17.41 7.96l-1.37-1.37c-.4-.4-.92-.59-1.43-.59-.52 0-1.04.2-1.43.59L10.3 9.45l-7.72 7.72c-.78.78-.78 2.05 0 2.83L4 21.41c.39.39.9.59 1.41.59.51 0 1.02-.2 1.41-.59l7.78-7.78 2.81-2.81c.8-.78.8-2.07 0-2.86zM5.41 20L4 18.59l7.72-7.72 1.47 1.35L5.41 20z\"/>\n",
              "  </svg>\n",
              "      </button>\n",
              "      \n",
              "  <style>\n",
              "    .colab-df-container {\n",
              "      display:flex;\n",
              "      flex-wrap:wrap;\n",
              "      gap: 12px;\n",
              "    }\n",
              "\n",
              "    .colab-df-convert {\n",
              "      background-color: #E8F0FE;\n",
              "      border: none;\n",
              "      border-radius: 50%;\n",
              "      cursor: pointer;\n",
              "      display: none;\n",
              "      fill: #1967D2;\n",
              "      height: 32px;\n",
              "      padding: 0 0 0 0;\n",
              "      width: 32px;\n",
              "    }\n",
              "\n",
              "    .colab-df-convert:hover {\n",
              "      background-color: #E2EBFA;\n",
              "      box-shadow: 0px 1px 2px rgba(60, 64, 67, 0.3), 0px 1px 3px 1px rgba(60, 64, 67, 0.15);\n",
              "      fill: #174EA6;\n",
              "    }\n",
              "\n",
              "    [theme=dark] .colab-df-convert {\n",
              "      background-color: #3B4455;\n",
              "      fill: #D2E3FC;\n",
              "    }\n",
              "\n",
              "    [theme=dark] .colab-df-convert:hover {\n",
              "      background-color: #434B5C;\n",
              "      box-shadow: 0px 1px 3px 1px rgba(0, 0, 0, 0.15);\n",
              "      filter: drop-shadow(0px 1px 2px rgba(0, 0, 0, 0.3));\n",
              "      fill: #FFFFFF;\n",
              "    }\n",
              "  </style>\n",
              "\n",
              "      <script>\n",
              "        const buttonEl =\n",
              "          document.querySelector('#df-9bcf7810-009d-49aa-9429-6f57391ecb80 button.colab-df-convert');\n",
              "        buttonEl.style.display =\n",
              "          google.colab.kernel.accessAllowed ? 'block' : 'none';\n",
              "\n",
              "        async function convertToInteractive(key) {\n",
              "          const element = document.querySelector('#df-9bcf7810-009d-49aa-9429-6f57391ecb80');\n",
              "          const dataTable =\n",
              "            await google.colab.kernel.invokeFunction('convertToInteractive',\n",
              "                                                     [key], {});\n",
              "          if (!dataTable) return;\n",
              "\n",
              "          const docLinkHtml = 'Like what you see? Visit the ' +\n",
              "            '<a target=\"_blank\" href=https://colab.research.google.com/notebooks/data_table.ipynb>data table notebook</a>'\n",
              "            + ' to learn more about interactive tables.';\n",
              "          element.innerHTML = '';\n",
              "          dataTable['output_type'] = 'display_data';\n",
              "          await google.colab.output.renderOutput(dataTable, element);\n",
              "          const docLink = document.createElement('div');\n",
              "          docLink.innerHTML = docLinkHtml;\n",
              "          element.appendChild(docLink);\n",
              "        }\n",
              "      </script>\n",
              "    </div>\n",
              "  </div>\n",
              "  "
            ]
          },
          "metadata": {},
          "execution_count": 330
        }
      ]
    },
    {
      "cell_type": "code",
      "source": [
        "dados.loc[dados[\"Bairro\"] == bairro_selecionado]  # usando loc"
      ],
      "metadata": {
        "colab": {
          "base_uri": "https://localhost:8080/",
          "height": 300
        },
        "id": "Si45_eNfKj_o",
        "outputId": "ea706812-be68-4ed5-cf05-b127f891d49e"
      },
      "execution_count": null,
      "outputs": [
        {
          "output_type": "execute_result",
          "data": {
            "text/plain": [
              "                                 Rua     Bairro     Cidade  Metragem  Quartos  \\\n",
              "4025             Rua Teixeira Mendes  Liberdade  São Paulo       275        3   \n",
              "4882  Rua Senador Felício dos Santos  Liberdade  São Paulo       600        3   \n",
              "5039                             NaN  Liberdade  São Paulo        90        3   \n",
              "5156                             NaN  Liberdade  São Paulo        95        3   \n",
              "5606                             NaN  Liberdade  São Paulo        95        3   \n",
              "5845             Rua Teixeira Mendes  Liberdade  São Paulo       180        4   \n",
              "6367             Rua Teixeira Mendes  Liberdade  São Paulo       185        4   \n",
              "7284                             NaN  Liberdade  São Paulo       150        3   \n",
              "\n",
              "      Banheiros  Vagas      Valor Modalidade  \n",
              "4025          4      2  900000.00      Venda  \n",
              "4882          1      4 2000000.00      Venda  \n",
              "5039          2      1  600000.00      Venda  \n",
              "5156          2      1  600000.00      Venda  \n",
              "5606          2      1  600000.00      Venda  \n",
              "5845          2      2  750000.00      Venda  \n",
              "6367          2      2  750000.00      Venda  \n",
              "7284          2      2 1040000.00      Venda  "
            ],
            "text/html": [
              "\n",
              "  <div id=\"df-9368f3ab-e65a-49c4-9e71-82e57d98ecd3\">\n",
              "    <div class=\"colab-df-container\">\n",
              "      <div>\n",
              "<style scoped>\n",
              "    .dataframe tbody tr th:only-of-type {\n",
              "        vertical-align: middle;\n",
              "    }\n",
              "\n",
              "    .dataframe tbody tr th {\n",
              "        vertical-align: top;\n",
              "    }\n",
              "\n",
              "    .dataframe thead th {\n",
              "        text-align: right;\n",
              "    }\n",
              "</style>\n",
              "<table border=\"1\" class=\"dataframe\">\n",
              "  <thead>\n",
              "    <tr style=\"text-align: right;\">\n",
              "      <th></th>\n",
              "      <th>Rua</th>\n",
              "      <th>Bairro</th>\n",
              "      <th>Cidade</th>\n",
              "      <th>Metragem</th>\n",
              "      <th>Quartos</th>\n",
              "      <th>Banheiros</th>\n",
              "      <th>Vagas</th>\n",
              "      <th>Valor</th>\n",
              "      <th>Modalidade</th>\n",
              "    </tr>\n",
              "  </thead>\n",
              "  <tbody>\n",
              "    <tr>\n",
              "      <th>4025</th>\n",
              "      <td>Rua Teixeira Mendes</td>\n",
              "      <td>Liberdade</td>\n",
              "      <td>São Paulo</td>\n",
              "      <td>275</td>\n",
              "      <td>3</td>\n",
              "      <td>4</td>\n",
              "      <td>2</td>\n",
              "      <td>900000.00</td>\n",
              "      <td>Venda</td>\n",
              "    </tr>\n",
              "    <tr>\n",
              "      <th>4882</th>\n",
              "      <td>Rua Senador Felício dos Santos</td>\n",
              "      <td>Liberdade</td>\n",
              "      <td>São Paulo</td>\n",
              "      <td>600</td>\n",
              "      <td>3</td>\n",
              "      <td>1</td>\n",
              "      <td>4</td>\n",
              "      <td>2000000.00</td>\n",
              "      <td>Venda</td>\n",
              "    </tr>\n",
              "    <tr>\n",
              "      <th>5039</th>\n",
              "      <td>NaN</td>\n",
              "      <td>Liberdade</td>\n",
              "      <td>São Paulo</td>\n",
              "      <td>90</td>\n",
              "      <td>3</td>\n",
              "      <td>2</td>\n",
              "      <td>1</td>\n",
              "      <td>600000.00</td>\n",
              "      <td>Venda</td>\n",
              "    </tr>\n",
              "    <tr>\n",
              "      <th>5156</th>\n",
              "      <td>NaN</td>\n",
              "      <td>Liberdade</td>\n",
              "      <td>São Paulo</td>\n",
              "      <td>95</td>\n",
              "      <td>3</td>\n",
              "      <td>2</td>\n",
              "      <td>1</td>\n",
              "      <td>600000.00</td>\n",
              "      <td>Venda</td>\n",
              "    </tr>\n",
              "    <tr>\n",
              "      <th>5606</th>\n",
              "      <td>NaN</td>\n",
              "      <td>Liberdade</td>\n",
              "      <td>São Paulo</td>\n",
              "      <td>95</td>\n",
              "      <td>3</td>\n",
              "      <td>2</td>\n",
              "      <td>1</td>\n",
              "      <td>600000.00</td>\n",
              "      <td>Venda</td>\n",
              "    </tr>\n",
              "    <tr>\n",
              "      <th>5845</th>\n",
              "      <td>Rua Teixeira Mendes</td>\n",
              "      <td>Liberdade</td>\n",
              "      <td>São Paulo</td>\n",
              "      <td>180</td>\n",
              "      <td>4</td>\n",
              "      <td>2</td>\n",
              "      <td>2</td>\n",
              "      <td>750000.00</td>\n",
              "      <td>Venda</td>\n",
              "    </tr>\n",
              "    <tr>\n",
              "      <th>6367</th>\n",
              "      <td>Rua Teixeira Mendes</td>\n",
              "      <td>Liberdade</td>\n",
              "      <td>São Paulo</td>\n",
              "      <td>185</td>\n",
              "      <td>4</td>\n",
              "      <td>2</td>\n",
              "      <td>2</td>\n",
              "      <td>750000.00</td>\n",
              "      <td>Venda</td>\n",
              "    </tr>\n",
              "    <tr>\n",
              "      <th>7284</th>\n",
              "      <td>NaN</td>\n",
              "      <td>Liberdade</td>\n",
              "      <td>São Paulo</td>\n",
              "      <td>150</td>\n",
              "      <td>3</td>\n",
              "      <td>2</td>\n",
              "      <td>2</td>\n",
              "      <td>1040000.00</td>\n",
              "      <td>Venda</td>\n",
              "    </tr>\n",
              "  </tbody>\n",
              "</table>\n",
              "</div>\n",
              "      <button class=\"colab-df-convert\" onclick=\"convertToInteractive('df-9368f3ab-e65a-49c4-9e71-82e57d98ecd3')\"\n",
              "              title=\"Convert this dataframe to an interactive table.\"\n",
              "              style=\"display:none;\">\n",
              "        \n",
              "  <svg xmlns=\"http://www.w3.org/2000/svg\" height=\"24px\"viewBox=\"0 0 24 24\"\n",
              "       width=\"24px\">\n",
              "    <path d=\"M0 0h24v24H0V0z\" fill=\"none\"/>\n",
              "    <path d=\"M18.56 5.44l.94 2.06.94-2.06 2.06-.94-2.06-.94-.94-2.06-.94 2.06-2.06.94zm-11 1L8.5 8.5l.94-2.06 2.06-.94-2.06-.94L8.5 2.5l-.94 2.06-2.06.94zm10 10l.94 2.06.94-2.06 2.06-.94-2.06-.94-.94-2.06-.94 2.06-2.06.94z\"/><path d=\"M17.41 7.96l-1.37-1.37c-.4-.4-.92-.59-1.43-.59-.52 0-1.04.2-1.43.59L10.3 9.45l-7.72 7.72c-.78.78-.78 2.05 0 2.83L4 21.41c.39.39.9.59 1.41.59.51 0 1.02-.2 1.41-.59l7.78-7.78 2.81-2.81c.8-.78.8-2.07 0-2.86zM5.41 20L4 18.59l7.72-7.72 1.47 1.35L5.41 20z\"/>\n",
              "  </svg>\n",
              "      </button>\n",
              "      \n",
              "  <style>\n",
              "    .colab-df-container {\n",
              "      display:flex;\n",
              "      flex-wrap:wrap;\n",
              "      gap: 12px;\n",
              "    }\n",
              "\n",
              "    .colab-df-convert {\n",
              "      background-color: #E8F0FE;\n",
              "      border: none;\n",
              "      border-radius: 50%;\n",
              "      cursor: pointer;\n",
              "      display: none;\n",
              "      fill: #1967D2;\n",
              "      height: 32px;\n",
              "      padding: 0 0 0 0;\n",
              "      width: 32px;\n",
              "    }\n",
              "\n",
              "    .colab-df-convert:hover {\n",
              "      background-color: #E2EBFA;\n",
              "      box-shadow: 0px 1px 2px rgba(60, 64, 67, 0.3), 0px 1px 3px 1px rgba(60, 64, 67, 0.15);\n",
              "      fill: #174EA6;\n",
              "    }\n",
              "\n",
              "    [theme=dark] .colab-df-convert {\n",
              "      background-color: #3B4455;\n",
              "      fill: #D2E3FC;\n",
              "    }\n",
              "\n",
              "    [theme=dark] .colab-df-convert:hover {\n",
              "      background-color: #434B5C;\n",
              "      box-shadow: 0px 1px 3px 1px rgba(0, 0, 0, 0.15);\n",
              "      filter: drop-shadow(0px 1px 2px rgba(0, 0, 0, 0.3));\n",
              "      fill: #FFFFFF;\n",
              "    }\n",
              "  </style>\n",
              "\n",
              "      <script>\n",
              "        const buttonEl =\n",
              "          document.querySelector('#df-9368f3ab-e65a-49c4-9e71-82e57d98ecd3 button.colab-df-convert');\n",
              "        buttonEl.style.display =\n",
              "          google.colab.kernel.accessAllowed ? 'block' : 'none';\n",
              "\n",
              "        async function convertToInteractive(key) {\n",
              "          const element = document.querySelector('#df-9368f3ab-e65a-49c4-9e71-82e57d98ecd3');\n",
              "          const dataTable =\n",
              "            await google.colab.kernel.invokeFunction('convertToInteractive',\n",
              "                                                     [key], {});\n",
              "          if (!dataTable) return;\n",
              "\n",
              "          const docLinkHtml = 'Like what you see? Visit the ' +\n",
              "            '<a target=\"_blank\" href=https://colab.research.google.com/notebooks/data_table.ipynb>data table notebook</a>'\n",
              "            + ' to learn more about interactive tables.';\n",
              "          element.innerHTML = '';\n",
              "          dataTable['output_type'] = 'display_data';\n",
              "          await google.colab.output.renderOutput(dataTable, element);\n",
              "          const docLink = document.createElement('div');\n",
              "          docLink.innerHTML = docLinkHtml;\n",
              "          element.appendChild(docLink);\n",
              "        }\n",
              "      </script>\n",
              "    </div>\n",
              "  </div>\n",
              "  "
            ]
          },
          "metadata": {},
          "execution_count": 331
        }
      ]
    },
    {
      "cell_type": "markdown",
      "source": [
        "### Desafio 3 \n",
        "Explorar alguns gráficos na documentação e aplicar nas demais colunas do DF, tentar colocar alguma conclusão (Thiago)"
      ],
      "metadata": {
        "id": "PrQnXRDPtE0I"
      }
    },
    {
      "cell_type": "code",
      "source": [
        "dados.hist(figsize=(10,8), layout=(3,3), bins=10) # histogramas variados e sem sentido\n",
        "plt.title('Histogramas variados')"
      ],
      "metadata": {
        "colab": {
          "base_uri": "https://localhost:8080/",
          "height": 374
        },
        "id": "8nR0f2OdYCWf",
        "outputId": "1bf6b41f-b85f-4745-f48c-6e9a4561d61e"
      },
      "execution_count": null,
      "outputs": [
        {
          "output_type": "execute_result",
          "data": {
            "text/plain": [
              "Text(0.5, 1.0, 'Histogramas variados')"
            ]
          },
          "metadata": {},
          "execution_count": 350
        },
        {
          "output_type": "display_data",
          "data": {
            "text/plain": [
              "<Figure size 720x576 with 9 Axes>"
            ],
            "image/png": "[encoded data removed]"
          },
          "metadata": {}
        }
      ]
    },
    {
      "cell_type": "code",
      "source": [
        "dados.iloc[:5, [1 ,4]].set_index(\"Bairro\").plot.pie(subplots = True, legend = False, figsize = (10,10))  # aqui um plot tosco feito com base no iloc, selecionando as 5 primeiras linhas do dataframe, depois as colunas 1 (Bairro) e 4 (Quartos), e tornando os bairros como índice\n",
        "plt.title('Amostra de número de quartos')"
      ],
      "metadata": {
        "colab": {
          "base_uri": "https://localhost:8080/",
          "height": 608
        },
        "id": "lPaIMHQabBNz",
        "outputId": "3e741182-d586-42bc-9167-9adbb60b85a6"
      },
      "execution_count": null,
      "outputs": [
        {
          "output_type": "execute_result",
          "data": {
            "text/plain": [
              "Text(0.5, 1.0, 'Amostra de número de quartos')"
            ]
          },
          "metadata": {},
          "execution_count": 351
        },
        {
          "output_type": "display_data",
          "data": {
            "text/plain": [
              "<Figure size 720x720 with 1 Axes>"
            ],
            "image/png": "[encoded data removed]"
          },
          "metadata": {}
        }
      ]
    },
    {
      "cell_type": "code",
      "source": [
        "dados.groupby(\"Bairro\")[\"Metragem\"].mean().sample(10).plot.bar(figsize=(10,8))\n",
        "plt.title('Amostra de Média de Metragem de Bairros')"
      ],
      "metadata": {
        "colab": {
          "base_uri": "https://localhost:8080/",
          "height": 689
        },
        "id": "MlcuRkHPZu-f",
        "outputId": "c3eb7dd3-0665-430e-fc50-e01a6ac8e54c"
      },
      "execution_count": null,
      "outputs": [
        {
          "output_type": "execute_result",
          "data": {
            "text/plain": [
              "Text(0.5, 1.0, 'Amostra de Média de Metragem de Bairros')"
            ]
          },
          "metadata": {},
          "execution_count": 349
        },
        {
          "output_type": "display_data",
          "data": {
            "text/plain": [
              "<Figure size 720x576 with 1 Axes>"
            ],
            "image/png": "[encoded data removed]"
          },
          "metadata": {}
        }
      ]
    },
    {
      "cell_type": "markdown",
      "source": [
        "### Desafio 4\n",
        "Pegar outros estatísticas dos dados, média, mediana, mim, max (Vivi)"
      ],
      "metadata": {
        "id": "rTQs_Nw9tF1C"
      }
    },
    {
      "cell_type": "code",
      "source": [
        "# mostrando os imóveis com maior metragem em cada bairro\n",
        "# podemos trocar pelos métodos min() para menor metragem, mean() para média e std() para desvio padrão\n",
        "\n",
        "dados.groupby(\"Bairro\")[\"Metragem\"].max().sort_values(ascending=False)"
      ],
      "metadata": {
        "colab": {
          "base_uri": "https://localhost:8080/"
        },
        "id": "JK6o9CaiopLD",
        "outputId": "e0fc8bc1-897e-48ac-fc1f-68b5f40c72c3"
      },
      "execution_count": null,
      "outputs": [
        {
          "output_type": "execute_result",
          "data": {
            "text/plain": [
              "Bairro\n",
              "Jardim Guedala                        750000\n",
              "Sítio Represa                          37000\n",
              "Jardim da Glória                       35677\n",
              "Santo Amaro                             7126\n",
              "Vila Castelo                            2850\n",
              "                                       ...  \n",
              "Cidade Antônio Estevão de Carvalho        60\n",
              "Jardim Nova Germania                      57\n",
              "Jardim Benfica                            48\n",
              "Vila Leonor                               46\n",
              "Vila Guaca                                10\n",
              "Name: Metragem, Length: 702, dtype: int64"
            ]
          },
          "metadata": {},
          "execution_count": 354
        }
      ]
    },
    {
      "cell_type": "markdown",
      "source": [
        "### Desafio 5\n",
        "Descobrir quais são os bairros que não tem nome de Rua. (Vivi)"
      ],
      "metadata": {
        "id": "GVPUE_MatHAQ"
      }
    },
    {
      "cell_type": "code",
      "source": [
        "dados[\"Rua\"].isnull().value_counts()  # quantidade de valores nulos que existem em Rua"
      ],
      "metadata": {
        "colab": {
          "base_uri": "https://localhost:8080/"
        },
        "id": "0Id2QVGao55b",
        "outputId": "48449d92-e4fb-494e-9a36-80e7befc14ca"
      },
      "execution_count": null,
      "outputs": [
        {
          "output_type": "execute_result",
          "data": {
            "text/plain": [
              "False    6574\n",
              "True     3434\n",
              "Name: Rua, dtype: int64"
            ]
          },
          "metadata": {},
          "execution_count": 358
        }
      ]
    },
    {
      "cell_type": "code",
      "source": [
        "dados[dados[\"Rua\"].isnull()][\"Bairro\"].value_counts()  # fazendo um slice de dados[\"Rua\"] dentro de dados e então um slice de Bairro, sintaxe estranha, mas funcionando, creio, e então contando quantas ruas sem informação há em cada bairro"
      ],
      "metadata": {
        "colab": {
          "base_uri": "https://localhost:8080/"
        },
        "id": "jiJq_nq9pluq",
        "outputId": "691d74d4-6663-4579-8cf0-4fd9d10d979b"
      },
      "execution_count": null,
      "outputs": [
        {
          "output_type": "execute_result",
          "data": {
            "text/plain": [
              "Jardim Guedala                      190\n",
              "Alto de Pinheiros                   169\n",
              "Jardim Paulista                     138\n",
              "Jardim Europa                       128\n",
              "Jardim Leonor                       118\n",
              "                                   ... \n",
              "Jardim do Colégio (Zona Norte)        1\n",
              "Alto da Boa Vista                     1\n",
              "Jardim Aeroporto                      1\n",
              "Conjunto Residencial Vista Verde      1\n",
              "Jardim Santo Elias                    1\n",
              "Name: Bairro, Length: 394, dtype: int64"
            ]
          },
          "metadata": {},
          "execution_count": 363
        }
      ]
    },
    {
      "cell_type": "markdown",
      "source": [
        "## Aula 2"
      ],
      "metadata": {
        "id": "fJ_I_fDZs8Sh"
      }
    },
    {
      "cell_type": "markdown",
      "source": [
        "### Desafio 1\n"
      ],
      "metadata": {
        "id": "vmXxUa_stLyq"
      }
    },
    {
      "cell_type": "code",
      "source": [
        ""
      ],
      "metadata": {
        "id": "D4MHwDACrJID"
      },
      "execution_count": null,
      "outputs": []
    },
    {
      "cell_type": "markdown",
      "source": [
        "### Desafio 2\n"
      ],
      "metadata": {
        "id": "zSYSLehytMdZ"
      }
    },
    {
      "cell_type": "code",
      "source": [
        ""
      ],
      "metadata": {
        "id": "luA7jb0FrJsC"
      },
      "execution_count": null,
      "outputs": []
    },
    {
      "cell_type": "markdown",
      "source": [
        "### Desafio 3"
      ],
      "metadata": {
        "id": "QuCAi0EdtMjr"
      }
    },
    {
      "cell_type": "code",
      "source": [
        ""
      ],
      "metadata": {
        "id": "vDxJzi63rKF5"
      },
      "execution_count": null,
      "outputs": []
    },
    {
      "cell_type": "markdown",
      "source": [
        "### Desafio 4"
      ],
      "metadata": {
        "id": "tQFQycFStMpZ"
      }
    },
    {
      "cell_type": "code",
      "source": [
        ""
      ],
      "metadata": {
        "id": "cVnkQy98rKfT"
      },
      "execution_count": null,
      "outputs": []
    },
    {
      "cell_type": "markdown",
      "source": [
        "### Desafio 5\n"
      ],
      "metadata": {
        "id": "dVhJaalNtM05"
      }
    },
    {
      "cell_type": "code",
      "source": [
        ""
      ],
      "metadata": {
        "id": "2f7MWr8grK5p"
      },
      "execution_count": null,
      "outputs": []
    },
    {
      "cell_type": "markdown",
      "source": [
        "## Aula 3"
      ],
      "metadata": {
        "id": "IkVFEvSErPEr"
      }
    },
    {
      "cell_type": "markdown",
      "source": [
        "### Desafio 1\n"
      ],
      "metadata": {
        "id": "eN5mDxU1rPEr"
      }
    },
    {
      "cell_type": "code",
      "source": [
        ""
      ],
      "metadata": {
        "id": "zZKXoCz0rPEr"
      },
      "execution_count": null,
      "outputs": []
    },
    {
      "cell_type": "markdown",
      "source": [
        "### Desafio 2\n"
      ],
      "metadata": {
        "id": "AMquuaFarPEr"
      }
    },
    {
      "cell_type": "code",
      "source": [
        ""
      ],
      "metadata": {
        "id": "N60cnv9qrPEr"
      },
      "execution_count": null,
      "outputs": []
    },
    {
      "cell_type": "markdown",
      "source": [
        "### Desafio 3"
      ],
      "metadata": {
        "id": "9Ag_w82hrPEr"
      }
    },
    {
      "cell_type": "code",
      "source": [
        ""
      ],
      "metadata": {
        "id": "uOzVOtVirPEr"
      },
      "execution_count": null,
      "outputs": []
    },
    {
      "cell_type": "markdown",
      "source": [
        "### Desafio 4"
      ],
      "metadata": {
        "id": "mOhN-JMXrPEr"
      }
    },
    {
      "cell_type": "code",
      "source": [
        ""
      ],
      "metadata": {
        "id": "VEcSJuPQrPEs"
      },
      "execution_count": null,
      "outputs": []
    },
    {
      "cell_type": "markdown",
      "source": [
        "### Desafio 5\n"
      ],
      "metadata": {
        "id": "dvMi81u6rPEs"
      }
    },
    {
      "cell_type": "code",
      "source": [
        ""
      ],
      "metadata": {
        "id": "IybEfYKNrPEs"
      },
      "execution_count": null,
      "outputs": []
    },
    {
      "cell_type": "markdown",
      "source": [
        "Desafio 1"
      ],
      "metadata": {
        "id": "cvkR_Et3tRMJ"
      }
    },
    {
      "cell_type": "markdown",
      "source": [
        "Desafio 2"
      ],
      "metadata": {
        "id": "eU30ViDOtRRK"
      }
    },
    {
      "cell_type": "markdown",
      "source": [
        "Desafio 3"
      ],
      "metadata": {
        "id": "y5HDqZCdtRVJ"
      }
    },
    {
      "cell_type": "markdown",
      "source": [
        "Desafio 4"
      ],
      "metadata": {
        "id": "oQ2y7ChctRaJ"
      }
    },
    {
      "cell_type": "markdown",
      "source": [
        "## Aula 4"
      ],
      "metadata": {
        "id": "pPTwTGVerTAa"
      }
    },
    {
      "cell_type": "markdown",
      "source": [
        "### Desafio 1\n"
      ],
      "metadata": {
        "id": "0JkIwEcUrTAa"
      }
    },
    {
      "cell_type": "code",
      "source": [
        ""
      ],
      "metadata": {
        "id": "5aZaLBRXrTAb"
      },
      "execution_count": null,
      "outputs": []
    },
    {
      "cell_type": "markdown",
      "source": [
        "### Desafio 2\n"
      ],
      "metadata": {
        "id": "1tEOqIhlrTAb"
      }
    },
    {
      "cell_type": "code",
      "source": [
        ""
      ],
      "metadata": {
        "id": "XfumR6OcrTAb"
      },
      "execution_count": null,
      "outputs": []
    },
    {
      "cell_type": "markdown",
      "source": [
        "### Desafio 3"
      ],
      "metadata": {
        "id": "bfh088TlrTAb"
      }
    },
    {
      "cell_type": "code",
      "source": [
        ""
      ],
      "metadata": {
        "id": "JafQSs1xrTAb"
      },
      "execution_count": null,
      "outputs": []
    },
    {
      "cell_type": "markdown",
      "source": [
        "### Desafio 4"
      ],
      "metadata": {
        "id": "qy0U65UxrTAb"
      }
    },
    {
      "cell_type": "code",
      "source": [
        ""
      ],
      "metadata": {
        "id": "rjf-onxZrTAb"
      },
      "execution_count": null,
      "outputs": []
    },
    {
      "cell_type": "markdown",
      "source": [
        "### Desafio 5\n"
      ],
      "metadata": {
        "id": "vfEdqOHhrTAb"
      }
    },
    {
      "cell_type": "code",
      "source": [
        ""
      ],
      "metadata": {
        "id": "hAG6CoyorTAb"
      },
      "execution_count": null,
      "outputs": []
    },
    {
      "cell_type": "markdown",
      "source": [
        "## Aula 5"
      ],
      "metadata": {
        "id": "83-qVd4arVS5"
      }
    },
    {
      "cell_type": "markdown",
      "source": [
        "### Desafio 1\n"
      ],
      "metadata": {
        "id": "lL_2o2jirVS6"
      }
    },
    {
      "cell_type": "code",
      "source": [
        ""
      ],
      "metadata": {
        "id": "6NUOK_x4rVS6"
      },
      "execution_count": null,
      "outputs": []
    },
    {
      "cell_type": "markdown",
      "source": [
        "### Desafio 2\n"
      ],
      "metadata": {
        "id": "pDU2WIc9rVS6"
      }
    },
    {
      "cell_type": "code",
      "source": [
        ""
      ],
      "metadata": {
        "id": "wIoelg7SrVS6"
      },
      "execution_count": null,
      "outputs": []
    },
    {
      "cell_type": "markdown",
      "source": [
        "### Desafio 3"
      ],
      "metadata": {
        "id": "uDVLUCVfrVS6"
      }
    },
    {
      "cell_type": "code",
      "source": [
        ""
      ],
      "metadata": {
        "id": "SMCaSS5orVS6"
      },
      "execution_count": null,
      "outputs": []
    },
    {
      "cell_type": "markdown",
      "source": [
        "### Desafio 4"
      ],
      "metadata": {
        "id": "P1VbsG1hrVS6"
      }
    },
    {
      "cell_type": "code",
      "source": [
        ""
      ],
      "metadata": {
        "id": "0k3PrwvVrVS6"
      },
      "execution_count": null,
      "outputs": []
    },
    {
      "cell_type": "markdown",
      "source": [
        "### Desafio 5\n"
      ],
      "metadata": {
        "id": "-wjSCbEqrVS6"
      }
    },
    {
      "cell_type": "code",
      "source": [
        ""
      ],
      "metadata": {
        "id": "UOSVTKlsrVS7"
      },
      "execution_count": null,
      "outputs": []
    }
  ]
}